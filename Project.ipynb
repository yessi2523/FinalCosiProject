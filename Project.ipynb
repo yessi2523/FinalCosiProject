{
 "cells": [
  {
   "cell_type": "markdown",
   "metadata": {},
   "source": [
    "# <center style=\"color:turquoise\">𝟜𝟘𝟜 ℂ𝕠𝕕𝕖 ℕ𝕠𝕥 𝔽𝕠𝕦𝕟𝕕</center> ",
    "\n",
    "### <center style=\"color:turquoise\">𝚃𝚎𝚊𝚖: 𝙲𝚢𝚗𝚝𝚑𝚒𝚊 𝙼𝚎𝚗𝚗𝚊, 𝚃𝚒𝚊𝚗𝚢𝚒 𝙶𝚊𝚘, 𝙴𝚖𝚒𝚕𝚢 𝙽𝚊, 𝙹𝚎𝚜𝚜𝚒𝚌𝚊 𝚃𝚊𝚒, 𝚈𝚎𝚜𝚜𝚎𝚗𝚒𝚊 𝚃𝚎𝚓𝚎𝚍𝚊</center> ",
    "\n",
    "### <center style=\"color:violet\">ℚ𝕦𝕒𝕣𝕒𝕥𝕚𝕟𝕖 𝔼𝕒𝕥𝕤: 𝙾𝚞𝚛 𝚙𝚛𝚘𝚓𝚎𝚌𝚝 𝚒𝚜 𝚊 𝙹𝚞𝚙𝚢𝚝𝚎𝚛 𝚗𝚘𝚝𝚎𝚋𝚘𝚘𝚔 𝚝𝚑𝚊𝚝 𝚊𝚜𝚔𝚜 𝚝𝚑𝚎 𝚞𝚜𝚎𝚛 𝚝𝚘 𝚒𝚗𝚙𝚞𝚝 𝚒𝚗𝚐𝚛𝚎𝚍𝚒𝚎𝚗𝚝𝚜 𝚝𝚑𝚎𝚢 𝚠𝚊𝚗𝚝 𝚝𝚘 𝚞𝚜𝚎 𝚏𝚘𝚛 𝚊 𝚛𝚎𝚌𝚒𝚙𝚎 𝚊𝚗𝚍 𝚠𝚎 𝚛𝚎𝚝𝚞𝚛𝚗 𝚊𝚕𝚕 𝚝𝚑𝚎 𝚛𝚎𝚌𝚒𝚙𝚎𝚜 𝚝𝚑𝚊𝚝 𝚒𝚗𝚌𝚕𝚞𝚍𝚎 𝚊𝚕𝚕 𝚘𝚏 𝚝𝚑𝚎 𝚒𝚗𝚐𝚛𝚎𝚍𝚒𝚎𝚗𝚝𝚜 𝚝𝚑𝚎𝚢 𝚠𝚊𝚗𝚝.</center>\n"
   ]
  },
  {
   "cell_type": "code",
   "execution_count": 15,
   "metadata": {},
   "outputs": [
    {
     "data": {
      "text/plain": [
       "39774"
      ]
     },
     "execution_count": 15,
     "metadata": {},
     "output_type": "execute_result"
    }
   ],
   "source": [
    "import json\n",
    "recipes_test = json.load(open('train.json','r'))\n",
    "recipes_train = json.load(open('test.json','r'))\n",
    "len(recipes_test)"
   ]
  },
  {
   "cell_type": "code",
   "execution_count": 17,
   "metadata": {},
   "outputs": [
    {
     "data": {
      "text/plain": [
       "dict_keys(['id', 'cuisine', 'ingredients'])"
      ]
     },
     "execution_count": 17,
     "metadata": {},
     "output_type": "execute_result"
    }
   ],
   "source": [
    "idk = recipes_train[350]\n",
    "unknown = recipes_test[350]\n",
    "unknown.keys()"
   ]
  },
  {
   "cell_type": "code",
   "execution_count": 9,
   "metadata": {},
   "outputs": [
    {
     "data": {
      "text/plain": [
       "['extra-virgin olive oil',\n",
       " 'fresh rosemary',\n",
       " 'duck breast halves',\n",
       " 'fennel seeds',\n",
       " 'garlic cloves']"
      ]
     },
     "execution_count": 9,
     "metadata": {},
     "output_type": "execute_result"
    }
   ],
   "source": [
    "unknown['ingredients']"
   ]
  },
  {
   "cell_type": "code",
   "execution_count": 10,
   "metadata": {},
   "outputs": [
    {
     "data": {
      "text/plain": [
       "'italian'"
      ]
     },
     "execution_count": 10,
     "metadata": {},
     "output_type": "execute_result"
    }
   ],
   "source": [
    "unknown['cuisine']"
   ]
  },
  {
   "cell_type": "code",
   "execution_count": 11,
   "metadata": {},
   "outputs": [
    {
     "data": {
      "text/plain": [
       "45956"
      ]
     },
     "execution_count": 11,
     "metadata": {},
     "output_type": "execute_result"
    }
   ],
   "source": [
    "unknown['id']"
   ]
  },
  {
   "cell_type": "code",
   "execution_count": 18,
   "metadata": {},
   "outputs": [
    {
     "data": {
      "text/plain": [
       "dict_keys(['id', 'ingredients'])"
      ]
     },
     "execution_count": 18,
     "metadata": {},
     "output_type": "execute_result"
    }
   ],
   "source": [
    "idk.keys()"
   ]
  },
  {
   "cell_type": "code",
   "execution_count": 19,
   "metadata": {},
   "outputs": [
    {
     "data": {
      "text/plain": [
       "44751"
      ]
     },
     "execution_count": 19,
     "metadata": {},
     "output_type": "execute_result"
    }
   ],
   "source": [
    "idk['id']"
   ]
  },
  {
   "cell_type": "code",
   "execution_count": 2,
   "metadata": {},
   "outputs": [
    {
     "name": "stdout",
     "output_type": "stream",
     "text": [
      "this list has 231637 items in it\n"
     ]
    },
    {
     "data": {
      "text/plain": [
       "OrderedDict([('name', 'comfort able kamikaze'),\n",
       "             ('id', '285606'),\n",
       "             ('minutes', '2'),\n",
       "             ('contributor_id', '237783'),\n",
       "             ('submitted', '2008-02-09'),\n",
       "             ('tags',\n",
       "              \"['15-minutes-or-less', 'time-to-make', 'course', 'preparation', 'occasion', 'for-1-or-2', '5-ingredients-or-less', 'beverages', 'easy', 'dinner-party', 'cocktails', 'taste-mood', 'number-of-servings', '3-steps-or-less']\"),\n",
       "             ('nutrition', '[109.6, 0.0, 1.0, 1.0, 0.0, 0.0, 0.0]'),\n",
       "             ('n_steps', '2'),\n",
       "             ('steps',\n",
       "              \"['shake for 15 seconds', 'serve straight up or on the rocks , whichever you prefer']\"),\n",
       "             ('description',\n",
       "              'good for those un\"comfort\"able aches and pains!'),\n",
       "             ('ingredients',\n",
       "              \"['southern comfort', 'triple sec', 'lime juice', 'ice cubes']\"),\n",
       "             ('n_ingredients', '4')])"
      ]
     },
     "execution_count": 2,
     "metadata": {},
     "output_type": "execute_result"
    }
   ],
   "source": [
    "import csv\n",
    "csv_recipes = list(csv.DictReader(open('RAW_recipes.csv','r'),delimiter=','))\n",
    "\n",
    "# print the first five lines\n",
    "print(\"this list has\",len(csv_recipes),\"items in it\")\n",
    "csv_recipes[351]"
   ]
  },
  {
   "cell_type": "code",
   "execution_count": null,
   "metadata": {},
   "outputs": [],
   "source": []
  },
  {
   "cell_type": "code",
   "execution_count": 3,
   "metadata": {},
   "outputs": [
    {
     "name": "stdout",
     "output_type": "stream",
     "text": [
      "Hi! Welcome to Quaratine Eats! Here, we will be helping you find recipes you can make with the limited ingredients you may have in the house.\n",
      "\n",
      "It may seem like certain things don't go together, but try inputting the ingredients you have and we'll see what recipes we can come up with!\n",
      "\n",
      "When inputting your ingredients, remember to please seperate them by commas with no spaces in between!\n",
      "\n"
     ]
    }
   ],
   "source": [
    "print(\"Hi! Welcome to Quaratine Eats! Here, we will be helping you find recipes you can make with the limited ingredients you may have in the house.\\n\")\n",
    "print(\"It may seem like certain things don't go together, but try inputting the ingredients you have and we'll see what recipes we can come up with!\\n\")\n",
    "print(\"When inputting your ingredients, remember to please seperate them by commas with no spaces in between!\\n\")"
   ]
  },
  {
   "cell_type": "code",
   "execution_count": 4,
   "metadata": {},
   "outputs": [
    {
     "name": "stdin",
     "output_type": "stream",
     "text": [
      "Your ingredients? rice,flour,lime juice,egg\n"
     ]
    }
   ],
   "source": [
    "ingred_list = str(input(\"Your ingredients?\"))"
   ]
  },
  {
   "cell_type": "code",
   "execution_count": 5,
   "metadata": {},
   "outputs": [
    {
     "name": "stdout",
     "output_type": "stream",
     "text": [
      "['rice', 'flour', 'lime juice', 'egg']\n"
     ]
    },
    {
     "data": {
      "text/plain": [
       "4"
      ]
     },
     "execution_count": 5,
     "metadata": {},
     "output_type": "execute_result"
    }
   ],
   "source": [
    "split_ingred = ingred_list.split(\",\")\n",
    "print(split_ingred)\n",
    "len(split_ingred)"
   ]
  },
  {
   "cell_type": "code",
   "execution_count": 6,
   "metadata": {},
   "outputs": [
    {
     "name": "stdout",
     "output_type": "stream",
     "text": [
      "banana and coconut pancakes\n",
      "chicken curry in crispy rice cases\n",
      "crispy chicken with peanut dipping sauce\n",
      "gluten free soft sugar cookies\n"
     ]
    }
   ],
   "source": [
    "for i in csv_recipes:\n",
    "    if 'egg' in i['ingredients'] and \"lime juice\" in i['ingredients'] and \"flour\" in i['ingredients'] and \"rice\" in i['ingredients']:\n",
    "        print(i['name'])\n",
    "    "
   ]
  },
  {
   "cell_type": "code",
   "execution_count": 7,
   "metadata": {},
   "outputs": [
    {
     "data": {
      "text/plain": [
       "{'name': ['banana and coconut pancakes',\n",
       "  'chicken curry in crispy rice cases',\n",
       "  'crispy chicken with peanut dipping sauce',\n",
       "  'gluten free soft sugar cookies'],\n",
       " 'descrip': ['an asian dessert for coconut and bananas lovers from asia online.',\n",
       "  'this makes 6 individual chicken curry pies. you can vary the amount of curry paste used to suit your taste. great for luch or serve with a salad or veges for dinner. a winner with the kids too!\\nfor gluten free-just ensure your flour mix and curry paste are gluten free',\n",
       "  'this recipe has chicken breasts, dipped in egg whites and rolled in a \\nherb-crispy rice cereal flakes and baked, then served with a peanut \\ndipping sauce.  made for rsc12.  changes have been made due to feedback from reviews...thank you for all your comments!!!',\n",
       "  'these soft sugar cookies will have the wheat crowd wishing they could eat our cookies!!!!!  maaaaybe we might share, lol.']}"
      ]
     },
     "execution_count": 7,
     "metadata": {},
     "output_type": "execute_result"
    }
   ],
   "source": [
    "matching_recipes = {'name': [],'descrip':[]}\n",
    "\n",
    "for i in csv_recipes:\n",
    "    matches = True\n",
    "    for x in split_ingred:\n",
    "        if x not in i['ingredients']:\n",
    "            matches = False\n",
    "    if matches:\n",
    "        matching_recipes['name'].append(i['name'])\n",
    "        matching_recipes['descrip'].append(i['description'])\n",
    "\n",
    "matching_recipes\n"
   ]
  },
  {
   "cell_type": "code",
   "execution_count": 8,
   "metadata": {},
   "outputs": [
    {
     "ename": "IndentationError",
     "evalue": "expected an indented block (<ipython-input-8-9c9ed4eddc36>, line 10)",
     "output_type": "error",
     "traceback": [
      "\u001b[0;36m  File \u001b[0;32m\"<ipython-input-8-9c9ed4eddc36>\"\u001b[0;36m, line \u001b[0;32m10\u001b[0m\n\u001b[0;31m    if r in matching_recipes[2]:\u001b[0m\n\u001b[0m     ^\u001b[0m\n\u001b[0;31mIndentationError\u001b[0m\u001b[0;31m:\u001b[0m expected an indented block\n"
     ]
    }
   ],
   "source": [
    "print(\"These are the top 3 recipes:\", matching_recipes[0:2])\n",
    "narrow = input(\"Would you like to see the description of these recipes? y/n\")\n",
    "if narrow == 'y':\n",
    "    r = input(\"Which one would you like to see more of?\")\n",
    "    if r in matching_recipes[0]:\n",
    "        print(i['description'][0])\n",
    "        \n",
    "    if r in matching_recipes[1]:\n",
    "        \n",
    "    if r in matching_recipes[2]:\n",
    "        \n",
    "        "
   ]
  },
  {
   "cell_type": "code",
   "execution_count": null,
   "metadata": {},
   "outputs": [],
   "source": []
  },
  {
   "cell_type": "code",
   "execution_count": null,
   "metadata": {},
   "outputs": [],
   "source": []
  }
 ],
 "metadata": {
  "kernelspec": {
   "display_name": "Python 3",
   "language": "python",
   "name": "python3"
  },
  "language_info": {
   "codemirror_mode": {
    "name": "ipython",
    "version": 3
   },
   "file_extension": ".py",
   "mimetype": "text/x-python",
   "name": "python",
   "nbconvert_exporter": "python",
   "pygments_lexer": "ipython3",
   "version": "3.7.4"
  }
 },
 "nbformat": 4,
 "nbformat_minor": 4
}
