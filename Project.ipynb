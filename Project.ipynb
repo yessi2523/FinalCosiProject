{
 "cells": [
  {
   "cell_type": "markdown",
   "metadata": {},
   "source": [
    "# <center style=\"color:turquoise\">𝟜𝟘𝟜 ℂ𝕠𝕕𝕖 ℕ𝕠𝕥 𝔽𝕠𝕦𝕟𝕕</center> ",
    "\n",
    "### <center style=\"color:turquoise\">𝚃𝚎𝚊𝚖: 𝙲𝚢𝚗𝚝𝚑𝚒𝚊 𝙼𝚎𝚗𝚗𝚊, 𝚃𝚒𝚊𝚗𝚢𝚒 𝙶𝚊𝚘, 𝙴𝚖𝚒𝚕𝚢 𝙽𝚊, 𝙹𝚎𝚜𝚜𝚒𝚌𝚊 𝚃𝚊𝚒, 𝚈𝚎𝚜𝚜𝚎𝚗𝚒𝚊 𝚃𝚎𝚓𝚎𝚍𝚊</center> ",
    "\n",
    "### <center style=\"color:violet\">ℚ𝕦𝕒𝕣𝕒𝕥𝕚𝕟𝕖 𝔼𝕒𝕥𝕤: 𝙾𝚞𝚛 𝚙𝚛𝚘𝚓𝚎𝚌𝚝 𝚒𝚜 𝚊 𝙹𝚞𝚙𝚢𝚝𝚎𝚛 𝚗𝚘𝚝𝚎𝚋𝚘𝚘𝚔 𝚝𝚑𝚊𝚝 𝚊𝚜𝚔𝚜 𝚝𝚑𝚎 𝚞𝚜𝚎𝚛 𝚝𝚘 𝚒𝚗𝚙𝚞𝚝 𝚒𝚗𝚐𝚛𝚎𝚍𝚒𝚎𝚗𝚝𝚜 𝚝𝚑𝚎𝚢 𝚠𝚊𝚗𝚝 𝚝𝚘 𝚞𝚜𝚎 𝚏𝚘𝚛 𝚊 𝚛𝚎𝚌𝚒𝚙𝚎 𝚊𝚗𝚍 𝚠𝚎 𝚛𝚎𝚝𝚞𝚛𝚗 𝚊𝚕𝚕 𝚝𝚑𝚎 𝚛𝚎𝚌𝚒𝚙𝚎𝚜 𝚝𝚑𝚊𝚝 𝚒𝚗𝚌𝚕𝚞𝚍𝚎 𝚊𝚕𝚕 𝚘𝚏 𝚝𝚑𝚎 𝚒𝚗𝚐𝚛𝚎𝚍𝚒𝚎𝚗𝚝𝚜 𝚝𝚑𝚎𝚢 𝚠𝚊𝚗𝚝.</center>\n"
   ]
  },
  {
   "cell_type": "code",
   "execution_count": 2,
   "metadata": {},
   "outputs": [
    {
     "name": "stdout",
     "output_type": "stream",
     "text": [
      "this list has 231637 items in it\n"
     ]
    },
    {
     "data": {
      "text/plain": [
       "OrderedDict([('name', 'comfort able kamikaze'),\n",
       "             ('id', '285606'),\n",
       "             ('minutes', '2'),\n",
       "             ('contributor_id', '237783'),\n",
       "             ('submitted', '2008-02-09'),\n",
       "             ('tags',\n",
       "              \"['15-minutes-or-less', 'time-to-make', 'course', 'preparation', 'occasion', 'for-1-or-2', '5-ingredients-or-less', 'beverages', 'easy', 'dinner-party', 'cocktails', 'taste-mood', 'number-of-servings', '3-steps-or-less']\"),\n",
       "             ('nutrition', '[109.6, 0.0, 1.0, 1.0, 0.0, 0.0, 0.0]'),\n",
       "             ('n_steps', '2'),\n",
       "             ('steps',\n",
       "              \"['shake for 15 seconds', 'serve straight up or on the rocks , whichever you prefer']\"),\n",
       "             ('description',\n",
       "              'good for those un\"comfort\"able aches and pains!'),\n",
       "             ('ingredients',\n",
       "              \"['southern comfort', 'triple sec', 'lime juice', 'ice cubes']\"),\n",
       "             ('n_ingredients', '4')])"
      ]
     },
     "execution_count": 2,
     "metadata": {},
     "output_type": "execute_result"
    }
   ],
   "source": [
    "import csv\n",
    "csv_recipes = list(csv.DictReader(open('RAW_recipes.csv','r'),delimiter=','))\n",
    "\n",
    "# print the first five lines\n",
    "print(\"this list has\",len(csv_recipes),\"items in it\")\n",
    "csv_recipes[351]"
   ]
  },
  {
   "cell_type": "code",
   "execution_count": 3,
   "metadata": {},
   "outputs": [
    {
     "name": "stdout",
     "output_type": "stream",
     "text": [
      "Recipe Info: \n",
      " \n",
      " Recipe Name: caramel  apples \n",
      " \n",
      " Description: not exactly caramel, but very similar, and every bit as delicious! these turn out a bit \"runny\" compared to most candy apples, but are really delicious chopped up and served over toasted nuts or ice cream! \n",
      " \n",
      " Number of Steps: 10 \n",
      " \n",
      " Time to cook: 7 \n",
      " \n",
      " Steps: ['pierce apples with popsicle sticks \n",
      " set aside'\n",
      " 'melt butter in a medium saucepan'\n",
      " 'add remaining ingrediants \n",
      " and gently bring to a boil \n",
      " stirring frequently'\n",
      " 'cover \n",
      " reduce heat and simmer for 3 minutes'\n",
      " 'do not uncover to stir !'\n",
      " 'remove from heat'\n",
      " 'mixture should be thin \n",
      " but sticky \n",
      " and saucepan sides should be steamy'\n",
      " 'stir well \n",
      " and allow to thicken slightly before dipping apples'\n",
      " 'apples may be double dipped if desired'\n",
      " 'refrigerate 1-2 hours until caramel is set']\n"
     ]
    }
   ],
   "source": [
    "def printRecp(d):\n",
    "    print(\"Recipe Info: \\n\",\n",
    "          \"\\n\",\"Recipe Name:\",d['name'],\"\\n\",\n",
    "          \"\\n\",\"Description:\",d['description'],\"\\n\",\n",
    "          \"\\n\",\"Number of Steps:\",d['n_steps'],\"\\n\",\n",
    "          \"\\n\",\"Time to cook:\",d['minutes'],\"\\n\",\n",
    "          \"\\n\",\"Steps:\", (d['steps'].replace(',' , '\\n')))\n",
    "printRecp((csv_recipes)[340])\n",
    "    \n"
   ]
  },
  {
   "cell_type": "code",
   "execution_count": 3,
   "metadata": {},
   "outputs": [
    {
     "name": "stdout",
     "output_type": "stream",
     "text": [
      "Hi! Welcome to Quaratine Eats! Here, we will be helping you find recipes you can make with the limited ingredients you may have in the house.\n",
      "\n",
      "It may seem like certain things don't go together, but try inputting the ingredients you have and we'll see what recipes we can come up with!\n",
      "\n",
      "When inputting your ingredients, remember to please seperate them by commas with no spaces in between!\n",
      "\n"
     ]
    }
   ],
   "source": [
    "print(\"Hi! Welcome to Quaratine Eats! Here, we will be helping you find recipes you can make with the limited ingredients you may have in the house.\\n\")\n",
    "print(\"It may seem like certain things don't go together, but try inputting the ingredients you have and we'll see what recipes we can come up with!\\n\")\n",
    "print(\"When inputting your ingredients, remember to please seperate them by commas with no spaces in between!\\n\")"
   ]
  },
  {
   "cell_type": "code",
   "execution_count": 4,
   "metadata": {},
   "outputs": [
    {
     "name": "stdin",
     "output_type": "stream",
     "text": [
      "Your ingredients? lime,egg,flour,rice\n"
     ]
    }
   ],
   "source": [
    "ingred_list = str(input(\"Your ingredients?\"))"
   ]
  },
  {
   "cell_type": "code",
   "execution_count": 5,
   "metadata": {},
   "outputs": [
    {
     "name": "stdout",
     "output_type": "stream",
     "text": [
      "['lime', 'egg', 'flour', 'rice']\n"
     ]
    },
    {
     "data": {
      "text/plain": [
       "4"
      ]
     },
     "execution_count": 5,
     "metadata": {},
     "output_type": "execute_result"
    }
   ],
   "source": [
    "split_ingred = ingred_list.split(\",\")\n",
    "print(split_ingred)\n",
    "len(split_ingred)"
   ]
  },
  {
   "cell_type": "code",
   "execution_count": 21,
   "metadata": {},
   "outputs": [
    {
     "name": "stdout",
     "output_type": "stream",
     "text": [
      "adzuki bean stew\n",
      "OrderedDict([('name', 'adzuki bean stew'), ('id', '240608'), ('minutes', '55'), ('contributor_id', '109855'), ('submitted', '2007-07-15'), ('tags', \"['60-minutes-or-less', 'time-to-make', 'course', 'main-ingredient', 'cuisine', 'preparation', 'soups-stews', 'beans', 'asian', 'easy', 'diabetic', 'dietary']\"), ('nutrition', '[227.2, 0.0, 18.0, 14.0, 23.0, 0.0, 15.0]'), ('n_steps', '8'), ('steps', '[\\'rinse the beans after draining them from the soaking water then put them in a saucepan\\', \\'cover with water and then bring to a boil\\', \\'reduce the heat and then simmer , partially covered , for 30 to 35 minutes\\', \"when you\\'re done , the beans should still be somewhat hard\", \\'add all of the other ingredients except for the broccoli and cilantro and cook for 10 minutes\\', \\'next , add the broccoli and cilantro and then simmer for about 5 minutes , or until the broccoli is tender\\', \\'to serve , spoon into bowls topped with a spoonful of natural yogurt , if desired\\', \\'soaking the beans overnight is crucial to this recipe as it greatly shortens the cooking time of the beans\\']'), ('description', \"i found this on a diabetic website while searching for recipes i can share with my patients. i haven't tried it yet. diabetic or not, it sounds different and really good.\"), ('ingredients', \"['adzuki beans', 'leek', 'carrot', 'sweet potato', 'chicken bouillon cube', 'tabasco sauce', 'tomato paste', 'worcestershire sauce', 'broccoli floret', 'cilantro leaf', 'low-fat plain yogurt']\"), ('n_ingredients', '11')])\n",
      "african chicken curry in rich palm oil\n",
      "OrderedDict([('name', 'african chicken curry in rich palm oil'), ('id', '362224'), ('minutes', '90'), ('contributor_id', '1210913'), ('submitted', '2009-03-22'), ('tags', \"['curries', 'time-to-make', 'course', 'main-ingredient', 'cuisine', 'preparation', 'main-dish', 'poultry', 'african', 'chicken', 'meat', 'chicken-thighs-legs', '4-hours-or-less']\"), ('nutrition', '[983.3, 81.0, 78.0, 26.0, 90.0, 113.0, 29.0]'), ('n_steps', '31'), ('steps', \"['cut the potatoes into large bite size pieces and boil them in water for 7 minutes', 'discard the water and set potatoes aside', 'finely dice all the onions', 'peel and mince garlic cloves', 'mince or grind ginger', 'cut the green peppers into large bite size pieces', 'set aside 1 tsp of cumin seed for later', 'grind the whole spice mix minus the 1 tsp cumin seed and combine with the ground turmeric', 'do not use pre ground spices', 'heat the palm oil on high in a wide , deep nonstick pan', 'it should quickly begin to sizzle and smoke', 'add the 1 tsp of whole cumin seed you set aside', 'add the saffron', 'after a half minute or so add the diced onions', 'stir around giving the onions a chance to brown', 'while you are doing this add the ginger , garlic and then the spice mixture', 'once the onions are browned add the tomato , lemon juice and the coconut milk', 'stir it up and then slowly mix in the yoghurt', 'you should have a nice looking sauce by now', 'taste for salt and if not enough then add more to taste', 'add the potatoes and green peppers and then the raw chicken thighs', 'mix it up real good and lower the heat to low', 'cover the pan tightly and let cook on the stove on low for approximately one hour checking on it occasionally', 'after one hour look at the sauce', 'if it is soupy then remove all the thighs and set aside and leave the pan uncovered and turn up the heat to high', 'stand by at this point and intermittently stir while the sauce boils', 'reduce to a medium thick sauce', 'lower the heat back to low , return the chicken to the pan and stir it up', 'when you are ready to serve the food turn off the heat and chop the cilantro finely and throw into the pan and stir', 'your curry is done', 'serve over basmati rice or with warm naan bread']\"), ('description', \"this dish is something i created inspired by my finding virgin red palm oil in a local gourmet store. it's a pretty basic curry but what makes it special is the richness of the palm oil. make sure to get the unhydrogenated virgin palm oil. it looks creamy at room temperature - almost solid, and it is a deep red color. don't try to cut the fat down by using less oil or skinned chicken as you will not get to appreciate the dish for it's incredible richness. if you do want to cut any fat out you can use a lighter yoghurt (ie 2%). use whole spices and grind them - this makes a massive difference. you might want to have the windows open and the fan running during the cooking process.\"), ('ingredients', \"['chicken thighs', 'potatoes', 'yellow onions', 'green peppers', 'coconut milk', 'greek yogurt', 'tomatoes', 'garlic cloves', 'fresh cilantro', 'ginger', 'palm oil', 'saffron', 'lemon', 'coriander seed', 'cumin seeds', 'fennel seed', 'fenugreek seeds', 'mustard seeds', 'clove', 'whole nutmeg', 'allspice', 'green cardamom pods', 'black peppercorns', 'kosher salt', 'ground turmeric', 'bell peppers', 'bay leaves', 'dried curry leaves']\"), ('n_ingredients', '28')])\n",
      "aloo roti  potato rotis\n",
      "OrderedDict([('name', 'aloo roti  potato rotis'), ('id', '174830'), ('minutes', '30'), ('contributor_id', '125458'), ('submitted', '2006-06-26'), ('tags', \"['30-minutes-or-less', 'time-to-make', 'course', 'main-ingredient', 'cuisine', 'preparation', 'flat-shapes', 'breads', 'potatoes', 'vegetables', 'asian', 'indian', 'vegetarian', 'dietary']\"), ('nutrition', '[115.6, 3.0, 4.0, 0.0, 6.0, 1.0, 6.0]'), ('n_steps', '11'), ('steps', '[\\'boil potatoes till tender , then grate them\\', \\'mix together in a large bowl , the wholewheat flour , ap flour , fenugreek and mint leaves , cilantro , chili , ginger , ajwain seeds , salt and pepper\\', \\'mix in the grated potatoes and oil\\', \"you should have a semi-firm dough that does not stick to your fingers , but if you don\\'t have enough moisture , add some of the optional yogurt to yield a dough of such consistency\", \\'do not knead the dough anymore than needed to incorporate everything\\', \\'there is also no need to let it rest\\', \\'divide the dough into 10-12 balls with lightly oiled , clean hands\\', \\'dust your rolling surface with some flour , and roll each ball into a thin 6-inch circle\\', \\'heat your griddle over medium-high heat and cook the breads until they are speckled with golden dots on each side\\', \\'this should take about a minute per side\\', \\'remove from griddle , brush with butter and serve\\']'), ('description', \"i found this recipe when i was looking to make some healthier flatbreads that were flavorful but that didn't involve frying or loads of ghee. i adapted this from neelam batra's 1000 indian recipes. it's really very simple to make since it involves no kneading, or messing up mixers and stuff.\"), ('ingredients', \"['potatoes', 'whole wheat flour', 'all-purpose flour', 'dried fenugreek leaves', 'mint leaf', 'fresh cilantro', 'green chili pepper', 'ginger paste', 'ajwain', 'salt', 'pepper', 'vegetable oil', 'nonfat plain yogurt', 'flour', 'butter']\"), ('n_ingredients', '15')])\n",
      "avocado potato salad\n",
      "OrderedDict([('name', 'avocado potato salad'), ('id', '67782'), ('minutes', '40'), ('contributor_id', '65308'), ('submitted', '2003-07-28'), ('tags', \"['60-minutes-or-less', 'time-to-make', 'course', 'main-ingredient', 'preparation', 'occasion', 'low-protein', 'salads', 'potatoes', 'vegetables', 'picnic', 'dietary', 'low-cholesterol', 'low-saturated-fat', 'low-calorie', 'healthy-2', 'low-in-something', 'to-go']\"), ('nutrition', '[234.9, 14.0, 23.0, 15.0, 10.0, 7.0, 11.0]'), ('n_steps', '10'), ('steps', \"['boil potato cubes until just tender', 'while potatoes boil , cube avocados and toss with 1 tablespoon lime juice', 'set aside', 'drain potatoes and place in bowl of cold water', 'when potatoes have cooled , drain well and place in large salad bowl', 'to make dressing , whisk lime juice , garlic , mustard , sugar , salt , pepper , olive oil and yogurt in a medium bowl', 'taste and adjust seasonings', 'pour dressing over potatoes and toss', 'gently fold in avocado , onion , and cilantro', 'serve at room temperature or cover tightly and chill for up to three hours']\"), ('description', 'this is a nice alternative to traditional potato salad, and a wonderful way to use avocados.'), ('ingredients', \"['red potatoes', 'avocados', 'fresh lime juice', 'sweet onion', 'fresh cilantro', 'garlic', 'honey mustard', 'sugar', 'salt', 'black pepper', 'olive oil', 'nonfat plain yogurt']\"), ('n_ingredients', '12')])\n",
      "baked french fries with chile peppers   cilantro\n",
      "OrderedDict([('name', 'baked french fries with chile peppers   cilantro'), ('id', '475573'), ('minutes', '55'), ('contributor_id', '1072593'), ('submitted', '2012-03-04'), ('tags', \"['60-minutes-or-less', 'time-to-make', 'course', 'main-ingredient', 'cuisine', 'preparation', 'north-american', 'side-dishes', 'potatoes', 'vegetables', 'american', 'southwestern-united-states', 'oven', 'equipment']\"), ('nutrition', '[325.0, 25.0, 11.0, 23.0, 9.0, 11.0, 13.0]'), ('n_steps', '13'), ('steps', \"['preheat oven to 425 degrees', 'cut potatoes lengthwise into slices that are 1 / 3-inch thick and then cut each slice into 1 / 3-inch thick strips', 'dry the potatoes between two kitchen towels', 'in a large bowl , combine the potatoes , 3 tablespoons olive oil and 1 teaspoon kosher salt', 'divide the potatoes between two baking sheets lined with parchment paper , spread into a single layer', 'bake until the potatoes are golden brown , about 40 minutes , turning the potatoes every 10 minutes , and rotating the racks halfway through baking', 'heat 1 teaspoon olive in a small nonstick skillet set over medium heat', 'add garlic and jalapenos and cook until fragrant , about 1 minutes', 'take care not to burn the garlic', 'place the cooked potatoes in a large bowl and toss with garlic , peppers , and cilantro', 'taste and season with additional salt , if necessary', 'to make sauce: in a medium bowl , stir to combine yogurt , mayonnaise , chipotle pepper , adobo sauce and lime juice', 'serve with fries']\"), ('description', 'serve with chipotle-lime yogurt dipping sauce recipe below.'), ('ingredients', \"['russet potatoes', 'olive oil', 'kosher salt', 'garlic cloves', 'red jalapeno chile', 'fresh cilantro', 'salt', 'greek yogurt', 'mayonnaise', 'chipotle pepper', 'adobo sauce', 'fresh lime juice']\"), ('n_ingredients', '12')])\n",
      "baked potatoes with a  spicy filling\n",
      "OrderedDict([('name', 'baked potatoes with a  spicy filling'), ('id', '282610'), ('minutes', '105'), ('contributor_id', '330545'), ('submitted', '2008-01-29'), ('tags', \"['time-to-make', 'course', 'main-ingredient', 'cuisine', 'preparation', 'occasion', 'north-american', 'side-dishes', 'beans', 'potatoes', 'vegetables', 'american', 'southern-united-states', 'oven', 'dinner-party', 'spicy', 'chick-peas-garbanzos', 'taste-mood', 'equipment', '4-hours-or-less']\"), ('nutrition', '[239.9, 2.0, 4.0, 12.0, 15.0, 0.0, 16.0]'), ('n_steps', '14'), ('steps', \"['preheat the oven to 400', 'scrub the potatoes and pat dry', 'prick all over with a fork , brush with oil if you are using it and season with salt and pepper', 'place the potatoes on a cookie sheet and bake for 1 1 / 2 hours or until cooked through', 'cool for 10 minutes', 'meanwhile , mash the garbanzo beans with a fork or potato masher', 'stir in the spices and half the chopped cilantro', 'cover and set aside', 'halve the cooked potatoes and scoop the flesh into bowl keeping the potato shells intact', 'mash the flesh until smooth and gently mix into the garbanzo bean mixture with the yogurt', 'season well with salt and pepper', 'fill the potato shells with the potato / garbanzo bean mixture and place on a cookie sheet', 'return the potatoes to the oven and bake for 10-15 minutes longer , until heated through', 'serve sprinkled with the remaining chopped cilantro']\"), ('description', 'with a spicy garbanzo filling these baked potatoes from healthy cooking can be made even more low-fat by baking without oiling them first.'), ('ingredients', \"['baking potatoes', 'vegetable oil', 'garbanzo beans', 'ground coriander', 'ground cumin', 'fresh cilantro', 'low-fat unsweetened yogurt', 'salt and pepper']\"), ('n_ingredients', '8')])\n",
      "beans and bamboo shoots\n",
      "OrderedDict([('name', 'beans and bamboo shoots'), ('id', '137031'), ('minutes', '35'), ('contributor_id', '163112'), ('submitted', '2005-09-11'), ('tags', \"['60-minutes-or-less', 'time-to-make', 'course', 'main-ingredient', 'cuisine', 'preparation', 'main-dish', 'beans', 'nepalese', 'potatoes', 'vegetables', 'asian', 'easy', 'dietary']\"), ('nutrition', '[301.5, 19.0, 43.0, 18.0, 23.0, 10.0, 12.0]'), ('n_steps', '11'), ('steps', \"['in a saucepan heat oil , fry dried red chilies until dark', 'add onions and saut until light brown', 'add cumin , coriander , chili powder , ginger , garlic , salt , and pepper', 'fry for 1 min under low heat', 'add potatoes to the onion mixture and saut for 5 minutes in medium heat', 'sprinkle water if it starts to burn', 'add soaked beans , bamboo shoots , tomatoes , yogurt , and broth to the potatoes mixture', 'stir well', 'bring to a boil , and let simmer for 15-20 minutes under low heat until potatoes are fork-tender , and the gravy has attained its desired consistency', 'garnish with chopped cilantro', 'serve with rice , or roti']\"), ('description', 'from nepal, this looks like a fabulous dish for the world tour.  \\n\\nmustard oil is an extremely hot, pungent oil expressed from mustard seeds and should be stored in the refrigerator and will keep for up to about 6 months. it can be used (sparingly because of the heat) in stir fries, salad dressings and marinades.\\n\\nstone ground prepared mustard could be used as a substitute.'), ('ingredients', \"['bamboo shoot', 'potatoes', 'black-eyed peas', 'onion', 'dried red chilies', 'cumin powder', 'coriander powder', 'chili powder', 'garlic', 'ginger', 'turmeric', 'fresh ground pepper', 'chicken broth', 'low-fat plain yogurt', 'chopped tomato', 'mustard oil', 'salt', 'cilantro']\"), ('n_ingredients', '18')])\n",
      "beef keema\n",
      "OrderedDict([('name', 'beef keema'), ('id', '249614'), ('minutes', '45'), ('contributor_id', '283251'), ('submitted', '2007-08-29'), ('tags', \"['60-minutes-or-less', 'time-to-make', 'course', 'main-ingredient', 'cuisine', 'preparation', 'occasion', 'main-dish', 'potatoes', 'vegetables', 'african', 'asian', 'indian', 'easy', 'pakistani', 'dinner-party', 'dietary', 'one-dish-meal', 'oamc-freezer-make-ahead', 'low-carb', 'low-in-something', 'number-of-servings']\"), ('nutrition', '[634.2, 56.0, 38.0, 43.0, 80.0, 65.0, 12.0]'), ('n_steps', '15'), ('steps', \"['in a large deep frying pan , heat the oil over moderate heat', 'add the onion and cook until starting to soften , about 3 minutes', 'stir in the garlic and ginger and cook 1 minute longer', 'add the beef and cook until no longer pink , about 3 minutes', 'drain off any fat', 'add the coriander , cumin , pepper , turmeric , cinnamon and 1 teaspoon of the salt to the pan', 'cook , stirring , for 1 minute', 'stir in the potatoes , yogurt and milk', 'bring just to a boil', 'cover the pan', 'reduce heat to a simmer and simmer for 20 minutes', 'uncover the pan and simmer for 5 minutes longer', 'stir in the peas and the remaining teaspoon salt', 'simmer until the peas are just done , about 2 minutes', 'stir in the lemon juice and cilantro and serve']\"), ('description', 'according to wilkipedia, \"keema is a traditional home cooked dish in northern india and pakistan. it is minced lamb curry served with peas or potatoes. originally qeema in urdu means mince meat. it may be mutton, lamb, beef or chicken. thus qeema of any meat can either be cooked in stew form, made into kababs, fried or barbecued.\" this is from one of my food & wine cookbooks. this dish is often made with lamb and served with naan or pitas. they say to serve it with a fruity beaujolais.'), ('ingredients', \"['cooking oil', 'onion', 'garlic cloves', 'fresh ginger', 'ground beef', 'ground coriander', 'ground cumin', 'black pepper', 'turmeric', 'ground cinnamon', 'salt', 'potato', 'plain yogurt', 'whole milk', 'peas', 'lemon juice', 'fresh cilantro']\"), ('n_ingredients', '17')])\n",
      "boulanee  afghani potato turnovers\n",
      "OrderedDict([('name', 'boulanee  afghani potato turnovers'), ('id', '500048'), ('minutes', '45'), ('contributor_id', '318262'), ('submitted', '2013-05-08'), ('tags', \"['weeknight', '60-minutes-or-less', 'time-to-make', 'course', 'main-ingredient', 'cuisine', 'preparation', 'occasion', 'low-protein', 'healthy', 'lunch', 'main-dish', 'potatoes', 'vegetables', 'middle-eastern', 'kid-friendly', 'low-fat', 'vegan', 'vegetarian', 'dietary', 'low-cholesterol', 'sandwiches', 'low-saturated-fat', 'low-calorie', 'oamc-freezer-make-ahead', 'inexpensive', 'healthy-2', 'low-in-something', 'onions', 'number-of-servings']\"), ('nutrition', '[102.4, 5.0, 8.0, 17.0, 5.0, 4.0, 5.0]'), ('n_steps', '14'), ('steps', \"['wash the potatoes , peel , chop into large pieces and boil for 20 minutes or until tender', 'drain the water and mash the potatoes thoroughly', 'mix in all spices , green onions and cilantro', 'to wrap the egg rolls , place the egg roll skin on working surface', 'place a portion of the potato filling in the middle of the egg roll skin', 'dip a finger in water and lighly edges of egg roll skin', 'fold egg roll in half to form triangle and seal edges', 'potato filling should be approximately 1 / 2 inch thick inside egg roll skin', 'heat a small amount of canola oil in large frying pan over medium heat', 'saut boulanee 4-5 minutes until lighly browned', 'add more oil to pan as necessay', 'for the cilantro sauce: put all ingredients in a food processor and pulse until a sauce', 'for yogurt sauce: stir all ingredients together , add water if you would like a thinner consistency', 'to serve: drizzle both sauces over boulanee and enjoy !']\"), ('description', 'boulanee is a vegan flat-bread from afghanistan baked or fried with a vegetable filling. it is usually served as an appetizer, side-dish, or main dish.'), ('ingredients', \"['russet potatoes', 'olive oil', 'cilantro', 'green onions', 'salt', 'black pepper', 'cayenne pepper', 'coriander seed', 'turmeric', 'egg roll wrap', 'canola oil', 'jalapeno', 'garlic clove', 'vinegar', 'yogurt', 'lemon juice', 'water']\"), ('n_ingredients', '17')])\n",
      "burrito bowl mason jar salad\n",
      "OrderedDict([('name', 'burrito bowl mason jar salad'), ('id', '520701'), ('minutes', '60'), ('contributor_id', '671222'), ('submitted', '2015-01-20'), ('tags', \"['60-minutes-or-less', 'time-to-make', 'course', 'preparation', 'occasion', 'lunch', 'salads', 'easy', 'picnic', 'dietary', 'oamc-freezer-make-ahead', 'brown-bag', 'to-go', 'from-scratch']\"), ('nutrition', '[323.8, 22.0, 6.0, 16.0, 38.0, 36.0, 9.0]'), ('n_steps', '18'), ('steps', \"['add quinoa , water , & salt to medium pot & bring to a boil', 'cook for 20-25 minutes until water is absorbed & quinoa is fluffy', 'set quinoa aside to cool', 'when cooled , add 1 / 4 cup chopped cilantro and lime zest / juice', 'dry off chicken breasts & season', 'heat coconut oil in skillet & add chicken , cooking for ~4 minutes per side or until cooked through', 'remove from skillet & cool', 'once cool , cut into small chunks , ~1 / 2 inch', 'chop sweet potato into small 1 / 2 inch cubes', 'heat bacon fat in skillet & add sweet potatoes , stirring every 3-5 minutes , until done', 'remove from skillet & cool', 'take 5 pint containers & layer your salad in each jar:', '1 tbsp greek yogurt', '2 tbsp sweet potato cubes', '4 tbsp cilantro lime quinoa', '2 tbsp grated cheese', '2-3 tbsp chicken', 'fill the rest of the way with lettuce']\"), ('description', 'found here:  http://www.strictlydelicious.com/burrito-bowl-mason-jar-salads/\\nposted here for nutritional information.  these should last --5 days, refrigerated.'), ('ingredients', \"['quinoa', 'water', 'salt', 'lime juice', 'lime zest', 'cilantro', 'chicken breasts', 'coconut oil', 'sweet potato', 'bacon fat', 'romaine lettuce', 'greek yogurt', 'shredded cheddar cheese']\"), ('n_ingredients', '13')])\n",
      "chaat\n",
      "OrderedDict([('name', 'chaat'), ('id', '483830'), ('minutes', '50'), ('contributor_id', '1706426'), ('submitted', '2012-07-19'), ('tags', \"['60-minutes-or-less', 'time-to-make', 'course', 'main-ingredient', 'cuisine', 'preparation', 'occasion', 'appetizers', 'beans', 'indian', 'dinner-party', 'chick-peas-garbanzos']\"), ('nutrition', '[327.7, 20.0, 29.0, 12.0, 19.0, 18.0, 14.0]'), ('n_steps', '13'), ('steps', \"['boil the garbanzo beans for 30 minutes or until fork tender , drain', 'beat the yogurt together with the following: fresh grated ginger , chili powder , cumin powder , coriander powder , rock salt or black salt , black pepper and salt', 'season the mashed potato with salt', 'break each puri gently with a fork to create a tiny opening on the top', 'arrange the puris in 4 plates , 8 in each plate', 'or , if using wheat crackers arrange them on a platter or plates', 'place the potatoes on top of each cracker', 'place about 1 tablespoon of potato in each puri or on each cracker', 'place a few garbanzo beans on top of the potato', 'spoon the spiced yogurt on top', 'spoon green chutney and sweet and sour chutney on top of it', 'garnish with the chopped onion , cilantro , and sev on top', 'serving']\"), ('description', \"there are several recipes for this on this site, but none quite like this! i have a recipe posted for the puris if you don't want to search the stores, or, use crackers!\\n\\n recipe #483169\"), ('ingredients', \"['garbanzo beans', 'plain yogurt', 'fresh ginger', 'chili powder', 'ground cumin', 'coriander powder', 'rock salt', 'ground black pepper', 'salt', 'potato', 'wheat crackers', 'green chutney', 'chutney', 'red onion', 'fresh cilantro', 'potato chips']\"), ('n_ingredients', '16')])\n",
      "chickpea kofta recipe\n",
      "OrderedDict([('name', 'chickpea kofta recipe'), ('id', '223068'), ('minutes', '60'), ('contributor_id', '143515'), ('submitted', '2007-04-16'), ('tags', \"['60-minutes-or-less', 'time-to-make', 'main-ingredient', 'cuisine', 'preparation', 'low-protein', 'very-low-carbs', 'beans', 'asian', 'indian', 'dietary', 'low-sodium', 'low-cholesterol', 'low-saturated-fat', 'low-calorie', 'low-carb', 'chick-peas-garbanzos', 'low-in-something']\"), ('nutrition', '[48.2, 0.0, 1.0, 6.0, 3.0, 0.0, 3.0]'), ('n_steps', '10'), ('steps', \"['process chickpeas in food processor until texture resembles coarse bread crumbs', 'transfer 2 / 3 of mixture to a mixing bowl along with mashed potato', 'set aside', 'add to the remaining chickpeas the following and process until smooth: all of the dried herbs , baking powder', 'add this paste to the mixing bowl along with the yogurt and cilantro', 'mix well', 'drop spoonfuls of mixture on sheet like cookies', 'bake at 350f for 35-45 minutes', 'flip them about half way through , flattening with the spatula before flipping', 'let them cool a bit and remove carefully']\"), ('description', 'from fatfree.com by ellen m. sentovich. sounds interesting...here\\'s what she wrote: \"i just got around to trying this recipe and it is wonderful !!  it is\\na very tolerant recipe too.  i made 1-person portions, which means my\\nrelative ingredient portions were probably way off.  day 2 i ran out\\nof yogurt and used milk.  also didn\\'t feel like using the food\\nprocessor so i crushed the chickpeas with a fork and stirred the rest\\ntogether with a spoon.  day 3 i ran out of potatoes and used dried.\\nthe one instruction i recommend following for sure is to flatten and\\nflip them half way through the baking.\\n\\nthese are **really ** great, try them!\"'), ('ingredients', \"['garbanzo beans', 'baking potato', 'coriander', 'paprika', 'ground cumin', 'cayenne pepper', 'salt', 'baking powder', 'nonfat yogurt', 'cilantro']\"), ('n_ingredients', '10')])\n",
      "chile verde  chicken or pork\n",
      "OrderedDict([('name', 'chile verde  chicken or pork'), ('id', '301329'), ('minutes', '320'), ('contributor_id', '486725'), ('submitted', '2008-04-29'), ('tags', \"['course', 'main-ingredient', 'cuisine', 'preparation', 'north-american', 'low-protein', 'healthy', 'very-low-carbs', 'main-dish', 'pork', 'poultry', 'mexican', 'easy', 'low-fat', 'chicken', 'crock-pot-slow-cooker', 'dietary', 'one-dish-meal', 'low-cholesterol', 'low-saturated-fat', 'low-calorie', 'low-carb', 'healthy-2', 'low-in-something', 'meat', 'equipment']\"), ('nutrition', '[235.2, 7.0, 70.0, 87.0, 44.0, 4.0, 9.0]'), ('n_steps', '4'), ('steps', '[\\'combine all ingredients and place in a crock pot\\', \\'cook on high for one hour and then switch to low for an additional 4-6 hours - time could be different depending on how hot your crock pot cooks\\', \\'at this point i like to break the meat up with a large spoon so that it is more or less \"shredded\"\\', \\'serve in a bowl with cilantro , yogurt or sour cream and tortillas on the side\\']'), ('description', 'this is an adaptation of a recipe from the food network, and is absolutely delicious! time includes crock pot cook time, but you could also do this on the stove.'), ('ingredients', \"['cayenne pepper', 'dried oregano', 'ground coriander', 'ground cumin', 'chili powder', 'green enchilada sauce', 'tomatillos', 'salsa verde', 'boneless skinless chicken breasts', 'onion', 'garlic cloves', 'mild green chilies', 'lime, juice of', 'cilantro', 'potatoes', 'yogurt', 'tortilla']\"), ('n_ingredients', '17')])\n",
      "creamy potatoes and spinach\n",
      "OrderedDict([('name', 'creamy potatoes and spinach'), ('id', '256211'), ('minutes', '20'), ('contributor_id', '307114'), ('submitted', '2007-09-29'), ('tags', \"['30-minutes-or-less', 'time-to-make', 'course', 'main-ingredient', 'cuisine', 'preparation', 'south-west-pacific', 'low-protein', 'healthy', 'side-dishes', 'potatoes', 'vegetables', 'australian', 'easy', 'beginner-cook', 'low-fat', 'vegetarian', 'dietary', 'low-cholesterol', 'low-saturated-fat', 'low-calorie', 'inexpensive', 'healthy-2', 'low-in-something', 'greens', 'spinach', '3-steps-or-less']\"), ('nutrition', '[97.0, 2.0, 10.0, 7.0, 6.0, 2.0, 6.0]'), ('n_steps', '9'), ('steps', \"['cook potato in boiling water 8 minutes or just until tender', 'drain', 'heat oil in a large nonstick skillet over medium heat', 'add ginger , red pepper , turmeric , and garlic', 'saut for 30 seconds', 'add potato', 'saut for 2 minutes', 'remove from heat', 'stir in spinach and remaining ingredients']\"), ('description', \"a different potato dish to serve when all the others have made an appearance too often. it's a great side dish to use for chicken or meat. really nice served at room temperature as well.\"), ('ingredients', \"['baking potatoes', 'olive oil', 'fresh ginger', 'crushed red pepper flakes', 'ground turmeric', 'garlic cloves', 'spinach', 'fresh cilantro', 'salt', 'plain low-fat yogurt']\"), ('n_ingredients', '10')])\n",
      "creamy roasted root salad\n",
      "OrderedDict([('name', 'creamy roasted root salad'), ('id', '462170'), ('minutes', '80'), ('contributor_id', '801973'), ('submitted', '2011-08-11'), ('tags', \"['time-to-make', 'course', 'main-ingredient', 'cuisine', 'preparation', 'occasion', 'north-american', 'salads', 'potatoes', 'vegetables', 'american', 'holiday-event', 'vegetarian', 'dietary', 'gluten-free', 'independence-day', 'free-of-something', 'superbowl', 'taste-mood', 'to-go', '4-hours-or-less']\"), ('nutrition', '[223.3, 16.0, 20.0, 4.0, 9.0, 7.0, 9.0]'), ('n_steps', '22'), ('steps', '[\\'pre-heat oven to 400f\\', \\'scrub all vegetables\\', \\'leaving skins on , cut root vegetables into large chunks of similar size , roughly the size of strawberries , smaller is okay for the parsnips\\', \\'keep potatoes , parsnips , and beets in separate bowls\\', \"the vegetables aren\\'t combined until after they\\'ve been roasted\", \\'coarsely chop garlic , set aside\\', \\'coarsely chop red onion , set aside\\', \\'using a mortar and pestle , gently grind dried oregano\\', \\'distribute garlic , onions , and oregano evenly among the chopped veggies\\', \\'drizzle 3 t of olive oil over potatoes , 2 t over beets , and one t over parsnips\\', \\'pour 3 tsp of balsamic vinegar over potatoes , 2 tsp over beets , and 1 tsp over parsnips\\', \\'season with sea salt and freshly ground pepper to taste\\', \\'toss each bowl separately and transfer veggies into roasting pans or dishes\\', \"the beets and parsnips can share a dish as long as they don\\'t mingle too much\", \\'all this separation keeps the flavors from influencing each other while roasting and yields a much better combination of distinct flavors in the final dish\\', \\'roast veggies in an oven pre-heated to 400f for about 55-65 minutes , turning veggies once at the half hour\\', \\'combine veggies in a large pyrex or stoneware mixing bowl and toss\\', \\'set aside to cool slightly\\', \\'in a small mixing bowl combine greek yogurt , mustard , parsley and cilantro\\', \\'season with a pinch of sea salt\\', \\'pour dressing over vegetables and toss once more to coat entire salad evenly\\', \\'serve warm or chill in salad in the fridge for a few hours and serve cool\\']'), ('description', 'a harmony of sweet and savory roasted vegetables decked in a creamy herb dressing is as delicious warm as it is chilled.'), ('ingredients', \"['beets', 'russet potato', 'red potatoes', 'parsnips', 'red onion', 'garlic cloves', 'dried oregano', 'virgin olive oil', 'balsamic vinegar', 'fat free greek yogurt', 'grainy mustard', 'fresh flat-leaf parsley', 'fresh cilantro leaves', 'pepper']\"), ('n_ingredients', '14')])\n",
      "creamy sweet potato soup\n",
      "OrderedDict([('name', 'creamy sweet potato soup'), ('id', '339613'), ('minutes', '45'), ('contributor_id', '486888'), ('submitted', '2008-11-25'), ('tags', \"['60-minutes-or-less', 'time-to-make', 'course', 'preparation', 'occasion', 'low-protein', 'healthy', 'bisques-cream-soups', 'soups-stews', 'holiday-event', 'dietary', 'thanksgiving', 'low-cholesterol', 'low-saturated-fat', 'low-calorie', 'low-carb', 'healthy-2', 'low-in-something']\"), ('nutrition', '[114.2, 8.0, 16.0, 17.0, 10.0, 6.0, 3.0]'), ('n_steps', '7'), ('steps', \"['heat oil in a soup pot', 'add onions and cumin , saute for 3-4 minutes', 'add potatoes and chicken broth and bring to a boil', 'reduce heat and simmer soup for 20-25 minutes', 'puree soup with 1', '5 cups of yogurt and cilantro', 'serve each portion of soup with dollop of remaining yogurt on top and a sprinkle of the seeds']\"), ('description', 'this is a recipe i want to try that  i found on the lid to my plain yogurt this morning. hope others find it intriguing as well but just wanted to post it so i have it in my collection ;).'), ('ingredients', \"['canola oil', 'sweet onions', 'ground cumin', 'sweet potatoes', 'chicken broth', 'plain yogurt', 'cilantro', 'pumpkin seeds']\"), ('n_ingredients', '8')])\n",
      "curried chicken and sweet potato salad\n",
      "OrderedDict([('name', 'curried chicken and sweet potato salad'), ('id', '20136'), ('minutes', '50'), ('contributor_id', '9869'), ('submitted', '2002-02-19'), ('tags', \"['60-minutes-or-less', 'time-to-make', 'course', 'main-ingredient', 'preparation', 'for-1-or-2', 'lunch', 'main-dish', 'salads', 'fruit', 'poultry', 'vegetables', 'barbecue', 'nuts', 'chicken', 'stove-top', 'dietary', 'meat', 'chicken-breasts', 'equipment', 'grilling', 'number-of-servings']\"), ('nutrition', '[963.7, 49.0, 163.0, 69.0, 93.0, 41.0, 42.0]'), ('n_steps', '10'), ('steps', \"['put the first 4 ingredients into a plastic bag', 'add the chicken , then massage the bag so the chicken is evenly coated with the marinade', 'set aside for at least 15 minutes', 'peel the potatoes and cut into 1 inch cubes', 'boil gently until tender , then leave to cool to room temperature', 'cook the chicken by grilling for 5-10 minutes on each side or until the outside has browned and the juices run clear', 'leave chicken to stand for 5-10 minutes , then cut into bite sized pieces', 'while the chicken is cooking , stir the dressing ingredients together , thinning to the desired consistency with the orange juice , and prepare the remaining salad ingredients', 'place the cooled well drained potato , the chicken and remaining ingredients in a large bowl , drizzle with dressing , then toss gently to combine', 'garnish with the reserved cilantro and serve immediately or refrigerate until required']\"), ('description', 'adapted from a nz cookbook, great tasting salad.'), ('ingredients', \"['plain yogurt', 'mango chutney', 'curry', 'garlic cloves', 'boneless chicken breasts', 'sweet potatoes', 'celery ribs', 'roasted cashew nuts', 'dates', 'fresh cilantro', 'orange juice', 'salt']\"), ('n_ingredients', '12')])\n",
      "curried chicken crepes\n",
      "OrderedDict([('name', 'curried chicken crepes'), ('id', '55990'), ('minutes', '60'), ('contributor_id', '58104'), ('submitted', '2003-03-09'), ('tags', \"['curries', '60-minutes-or-less', 'time-to-make', 'course', 'main-ingredient', 'preparation', 'occasion', 'main-dish', 'poultry', 'vegetables', 'oven', 'chicken', 'food-processor-blender', 'stove-top', 'dietary', 'spicy', 'one-dish-meal', 'low-sodium', 'low-calorie', 'comfort-food', 'low-carb', 'low-in-something', 'meat', 'onions', 'taste-mood', 'sweet', 'equipment', 'small-appliance']\"), ('nutrition', '[556.3, 34.0, 19.0, 28.0, 77.0, 44.0, 16.0]'), ('n_steps', '32'), ('steps', \"['for crepes , combine all-purpose flour , the 1 cup milk , egg , butter , salt , and pepper', 'in a blender mix well', 'spray a 6-inch skillet with nonstick spray coating', 'preheat skillet', 'then remove skillet from heat', 'pour in 1-2 tablespoons batter', 'lift and tilt skillet to spread batter', 'return to heat', 'brown on one side only', 'invert skillet over paper towels', 'remove crepe', 'repeat with remaining batter', 'for filling , spray a cold medium saucepan with nonstick spray coating', 'heat saucepan over medium heat', 'add onion and garlic', 'cook until onion is tender , stirring often', 'add brown sugar , turmeric , and curry powder', 'cook and stir for 1 minute more', 'then , stir in condensed soup and the 3 tablespoons milk', 'add chicken and potato', 'remove from heat', 'remove 3 / 4 cup of the soup mixture', 'cover and chill', 'to assemble , spoon some of the chicken mixture onto the unbrowned side of each crepe', 'roll up', 'place filled crepes , seam side down , in a 13x9x2-inch baking dish sprayed with pam', 'cover and chill for 2 to 24 hours', 'before serving , stir the reserved soup mixture', 'spoon soup mixture on top of filled crepes', 'cover and bake in a 350 degree f', 'oven about 30 minutes or until heated through', 'if desired , cilantro and yogurt !']\"), ('description', 'curry and chicken are rolled up in a thin, tender crepe and refridged so can be made a day ahead as not to fuss with guests!!!!'), ('ingredients', \"['cooked chicken', 'potato', 'all-purpose flour', 'milk', 'egg', 'salt & pepper', 'nonstick spray coating', 'onion', 'garlic cloves', 'light brown sugar', 'curry powder', 'turmeric', 'condensed cream of mushroom soup', 'cilantro', 'yogurt', 'butter']\"), ('n_ingredients', '16')])\n",
      "curried mixed vegetables\n",
      "OrderedDict([('name', 'curried mixed vegetables'), ('id', '134817'), ('minutes', '30'), ('contributor_id', '169969'), ('submitted', '2005-08-24'), ('tags', \"['30-minutes-or-less', 'time-to-make', 'course', 'main-ingredient', 'cuisine', 'preparation', 'occasion', 'south-west-pacific', 'lunch', 'side-dishes', 'vegetables', 'australian', 'easy', 'diabetic', 'dinner-party', 'holiday-event', 'vegetarian', 'dietary', 'to-go', '3-steps-or-less']\"), ('nutrition', '[496.3, 26.0, 53.0, 18.0, 43.0, 11.0, 23.0]'), ('n_steps', '9'), ('steps', \"['in a medium bowl , toss the diced carrots , potato , zucchini and onions with the chiles , ground coriander and ground turmeric', 'in a large saucepan , heat the vegetable oil', 'add the ginger and cook over moderate heat until golden , about 1 minute', 'add the seasoned vegetables and cook over moderately high heat until they just start to brown around the edges , about 4 minutes', 'add the tomatoes and half of the cilantro , cover and cook until the vegetables are tender , about 10 minutes', 'stir in the edamame and cook for 2 minutes longer', 'remove from the heat', 'stir in the yogurt and lemon juice and season with salt', 'transfer the vegetables to bowls , garnish with the remaining cilantro and serve with the warmed pitas']\"), ('description', 'australian cookbook author charmaine solomon created this mixed vegetable side dish that has a range of nuanced flavors. perfect side dish for any meal that needs a good pick me up or can be eaten with pita as nice lunch!'), ('ingredients', \"['carrots', 'yukon gold potato', 'zucchini', 'onions', 'red chilies', 'ground coriander', 'ground turmeric', 'vegetable oil', 'fresh ginger', 'tomatoes', 'cilantro', 'edamame', 'plain nonfat yogurt', 'fresh lemon juice', 'kosher salt', 'whole wheat pita bread']\"), ('n_ingredients', '16')])\n",
      "curried potato and pea soup\n",
      "OrderedDict([('name', 'curried potato and pea soup'), ('id', '218753'), ('minutes', '35'), ('contributor_id', '95700'), ('submitted', '2007-03-25'), ('tags', \"['60-minutes-or-less', 'time-to-make', 'course', 'main-ingredient', 'cuisine', 'preparation', 'for-1-or-2', 'low-protein', 'healthy', 'bisques-cream-soups', 'soups-stews', 'potatoes', 'vegetables', 'asian', 'indian', 'low-fat', 'dietary', 'low-sodium', 'low-cholesterol', 'low-saturated-fat', 'low-calorie', 'low-carb', 'healthy-2', 'low-in-something', 'number-of-servings']\"), ('nutrition', '[292.7, 9.0, 72.0, 34.0, 31.0, 14.0, 14.0]'), ('n_steps', '9'), ('steps', \"['saute potatoes , onion , and garlic in butter in a large saucepan over medium heat until onion is translucent , about 5 minutes', 'stir in flour and spices', 'saute for about 30 seconds', 'add the broth , milk , and sugar', 'bring to a boil , reduce heat to low , cover and simmer for 15 minutes', 'stir occasionally', 'stir in the peas and cook uncovered for 5 minutes', 'season with lime juice and salt', 'garnish with a dollop of yogurt and cilantro']\"), ('description', 'delicious and easy to make. a perfect after-church light lunch.'), ('ingredients', \"['onion', 'potato', 'garlic cloves', 'all-purpose flour', 'curry powder', 'garam masala', 'red pepper flakes', 'chicken broth', 'whole milk', 'sugar', 'frozen baby peas', 'lime, juice of', 'salt', 'yogurt', 'fresh cilantro']\"), ('n_ingredients', '15')])\n",
      "curried potatoes and carrots in ginger coconut sauce\n",
      "OrderedDict([('name', 'curried potatoes and carrots in ginger coconut sauce'), ('id', '451152'), ('minutes', '60'), ('contributor_id', '542159'), ('submitted', '2011-03-20'), ('tags', \"['60-minutes-or-less', 'time-to-make', 'course', 'main-ingredient', 'preparation', 'main-dish', 'vegetables', 'easy', 'vegetarian', 'dietary', 'one-dish-meal', '3-steps-or-less']\"), ('nutrition', '[706.4, 49.0, 244.0, 9.0, 18.0, 108.0, 33.0]'), ('n_steps', '10'), ('steps', \"['heat ghee in large pot over medium heat', 'add leeks and cook 57 minutes or until soft', 'stir in carrots , garlic , ginger , and curry powder and cook 23 minutes', 'pour in coconut milk and vegetable stock and bring mixture to a simmer , stirring occasionally', 'cover pot , reduce heat to medium-low , and cook 15 minutes', 'add potatoes , cover , and cook 2025 minutes more or until potatoes are tender , stirring every few minutes', 'stir in peas and cook 2 minutes or until warmed through', 'season to taste with salt and pepper', 'serve warm over cooked soba noodles or warm brown rice , with lemon wedges and a sprinkle of toasted cashews and cilantro', 'pass around a bowl of yogurt for guests to add if they wish']\"), ('description', 'best served warm over cooked soba noodles or brown rice, with lemon wedges and a sprinkle of toasted cashews and cilantro. \\nfound this on full bell farms which states the recipe is by dayna macy, daynamacy.com'), ('ingredients', \"['ghee', 'leeks', 'carrots', 'garlic cloves', 'ginger', 'curry powder', 'coconut milk', 'vegetable stock', 'yukon gold potatoes', 'frozen peas', 'roasted cashews', 'cilantro', 'plain yogurt', 'lemon wedge', 'salt and pepper']\"), ('n_ingredients', '15')])\n",
      "dannon s taco baked potatoes\n",
      "OrderedDict([('name', 'dannon s taco baked potatoes'), ('id', '125340'), ('minutes', '80'), ('contributor_id', '82616'), ('submitted', '2005-06-09'), ('tags', \"['time-to-make', 'course', 'main-ingredient', 'preparation', 'side-dishes', 'potatoes', 'vegetables', 'easy', 'dietary', '4-hours-or-less']\"), ('nutrition', '[154.1, 7.0, 28.0, 6.0, 11.0, 6.0, 7.0]'), ('n_steps', '17'), ('steps', '[\\'wash potatoes well\\', \\'drain and pierce several times with a fork\\', \\'bake at 400f for about 1 hr till soft\\', \\'reduce temperature to 375f\\', \\'cut potatoes in half lengthwise\\', \\'carefully scoop out potatoe pulp and place in bowl leaving 1 / 2\" pulp to keep potato skin intact\\', \\'set potato skins aside\\', \\'add yogurt and pepper to potato pulp\\', \\'mash till light and fluffy\\', \\'stir in 1 / 2 cup cheese , chilies , pimiento and cilantro into the potato mixture\\', \\'stuff potato skins with mixture\\', \\'place stuffed potato skins on ungreased sheet\\', \\'sprinkle with remaining 1 / 4 cup cheese\\', \\'bake 375f for 10 minutes till cheese melts and is bubbly\\', \\'peel avocado and remove pit\\', \\'mash in bowl with lime juice till smooth\\', \\'spoon onto hot baked potatoes and serve\\']'), ('description', 'this comes from the good folks at dannon.'), ('ingredients', \"['baking potatoes', 'low-fat plain yogurt', 'pepper', 'low-fat cheddar cheese', 'green chili', 'chopped pimiento', 'cilantro', 'avocado', 'lime juice']\"), ('n_ingredients', '9')])\n",
      "eggplant and potato stew with cumin\n",
      "OrderedDict([('name', 'eggplant and potato stew with cumin'), ('id', '409119'), ('minutes', '100'), ('contributor_id', '181082'), ('submitted', '2010-01-18'), ('tags', \"['time-to-make', 'course', 'main-ingredient', 'cuisine', 'preparation', 'low-protein', 'healthy', 'main-dish', 'vegetables', 'asian', 'indian', 'vegetarian', 'dietary', 'low-sodium', 'low-cholesterol', 'low-saturated-fat', 'low-calorie', 'low-carb', 'inexpensive', 'healthy-2', 'low-in-something', '4-hours-or-less']\"), ('nutrition', '[270.4, 18.0, 33.0, 4.0, 12.0, 12.0, 12.0]'), ('n_steps', '14'), ('steps', \"['preheat oven to 375 degrees f', 'cut several slits in the eggplant , stuff with sliced garlic', 'bake the eggplant and potatoes on cookie sheet until eggplant is shriveled and potatoes are done , about an hour', 'when vegetables cool enough to handle , peel the eggplant and chop the flesh into large pieces', 'cut potatoes , with skins , into 1 / 2 inch chunks', 'roast cumin seeds in dry skillet until you can smell them , about 10 seconds', 'grind half into a powder and set aside whole for garnish', 'in large heavy pan , heat the oil with the bay leaf', 'when it is hot , add the onion , ground cumin , and ginger', 'cook , stirring frequently , until onions are lightly colored , 12 to 15 minutes', 'add the eggplant , potato , tomato and the liquid and gently combine with the onions', 'season with salt', 'cook over medium heat until the whole stew is thoroughly warmed and cooked', 'stir in the yogurt and chopped cilantro , leaving marbled streaks throughout , and garnish with the whole cumin seeds and the cilantro leaves']\"), ('description', 'eggplant and potato stewed with cumin seed, ginger and tomato...from deborah madison'), ('ingredients', \"['eggplant', 'garlic cloves', 'russet potatoes', 'cumin seeds', 'peanut oil', 'bay leaf', 'yellow onion', 'fresh ginger', 'canned tomato', 'water', 'salt', 'plain yogurt', 'fresh cilantro', 'fresh cilantro leaves']\"), ('n_ingredients', '14')])\n",
      "fresh curried corn soup\n",
      "OrderedDict([('name', 'fresh curried corn soup'), ('id', '311403'), ('minutes', '52'), ('contributor_id', '401336'), ('submitted', '2008-07-02'), ('tags', \"['60-minutes-or-less', 'time-to-make', 'course', 'main-ingredient', 'cuisine', 'preparation', 'low-protein', 'healthy', 'soups-stews', 'vegetables', 'african', 'low-fat', 'dietary', 'low-cholesterol', 'low-saturated-fat', 'low-calorie', 'healthy-2', 'low-in-something', 'corn']\"), ('nutrition', '[165.0, 4.0, 21.0, 30.0, 10.0, 2.0, 11.0]'), ('n_steps', '14'), ('steps', \"['heat oil in a large saucepan', 'add onion', 'cover and cook over medium heat , stirring occasionally , until softened , about 5 minutes', 'add curry powder and cook 30 seconds until fragrant', 'add broth , corn , potatoes , lemon juice and salt to saucepan', 'bring to a boil over medium-high heat', 'reduce heat to medium-low and simmer , partially covered , until potatoes are tender , about 20 minutes', 'remove from heat', 'in a blender , food processor or using an immersion blender , puree mixture , until smooth', 'strain through a fine mesh sieve into a bowl , pressing on solids to extract as much liquid as possible', 'to serve , stir cilantro or scallions into soup', 'spoon into bowls and top with about 2 teaspoons each of yogurt and tomato', 'garnish with additional chopped cilantro or scallions , if desired', 'serve hot or cover and refrigerate up to 2 days']\"), ('description', 'we pair sweet corn with spicy curry in this delicious summer soup. to make it vegetarian, swap vegetable broth for chicken broth. ww points 2'), ('ingredients', \"['olive oil', 'onion', 'curry powder', 'fat-free chicken broth', 'corn', 'potatoes', 'fresh lemon juice', 'salt', 'cilantro', 'nonfat yogurt', 'tomatoes']\"), ('n_ingredients', '11')])\n",
      "himanshu s indian salad\n",
      "OrderedDict([('name', 'himanshu s indian salad'), ('id', '305070'), ('minutes', '40'), ('contributor_id', '182809'), ('submitted', '2008-05-27'), ('tags', \"['60-minutes-or-less', 'time-to-make', 'course', 'main-ingredient', 'preparation', 'salads', 'vegetables', 'easy', 'vegetarian', 'salad-dressings', 'dietary', 'gluten-free', 'inexpensive', 'free-of-something', 'presentation', 'served-cold']\"), ('nutrition', '[348.5, 10.0, 29.0, 18.0, 34.0, 9.0, 19.0]'), ('n_steps', '9'), ('steps', \"['whisk the first seven ingredients together and set aside', 'bring pot of cold salted water containing potatoes to a boil , lower heat and simmer for 5 minutes', 'add cauliflower and beans to pot and cook another 5 minutes or until tender', 'drain and rinse in cold water', 'drain again', 'place in large bowl', 'add eggs , onions , tomatoes , and chickpeas', 'toss with dressing just prior to serving', 'i serve hima first , then add the eggs to salad']\"), ('description', 'this is a recipe that has its beginnings in pune, india......but fell into a san diego, ca. kitchen!    himanshu is a vegetarian who hates vegetables!  boy, do i have to create to please him!'), ('ingredients', \"['plain yogurt', 'lime, juice of', 'lime, zest of', 'fresh cilantro', 'mango chutney', 'curry paste', 'water', 'small red potato', 'eggs', 'cauliflower', 'fresh green beans', 'red onion', 'tomatoes', 'chickpeas']\"), ('n_ingredients', '14')])\n",
      "indian potato cakes  aloo tikki  with cilantro chutney yogurt\n",
      "OrderedDict([('name', 'indian potato cakes  aloo tikki  with cilantro chutney yogurt'), ('id', '474699'), ('minutes', '35'), ('contributor_id', '279357'), ('submitted', '2012-02-21'), ('tags', \"['60-minutes-or-less', 'time-to-make', 'course', 'main-ingredient', 'cuisine', 'preparation', 'occasion', 'appetizers', 'side-dishes', 'potatoes', 'vegetables', 'indian', 'easy', 'dinner-party', 'vegetarian', 'dietary', 'spicy', 'taste-mood', '3-steps-or-less', 'simply-potatoes']\"), ('nutrition', '[149.8, 15.0, 13.0, 1.0, 11.0, 9.0, 3.0]'), ('n_steps', '10'), ('steps', \"['heat oil in frying pan to medium heat', 'mix simply potatoes mashed potatoes , red bell peppers , green onions , egg , flour , cumin , coriander , turmeric powder', 'allow to stand for 10 minutes', 'in the meantime , blend the cilantro , jalapeno , pistachios , lime juice and yogurt into a smooth consistency', 'add salt to taste', 'when oil is ready , use two tablespoons to make patties , smoothing one over the other , like making a cannelle', 'drop into hot oil', 'fry each side until golden brown', 'if doing in batches , you can keep warm in a 200 degree oven', 'plate them with sauce and enjoy !']\"), ('description', 'ready, set, cook! special edition contest entry. these little indian spiced potato pancakes are packed with flavor. combined with my homemade cilantro curry and yogurt sauce, it is a flavor party in your mouth.'), ('ingredients', \"['simply potatoes traditional mashed potatoes', 'red bell pepper', 'green onions', 'egg', 'flour', 'ground cumin', 'ground coriander', 'turmeric powder', 'oil', 'cilantro', 'jalapeno', 'pistachios', 'lime juice', 'yogurt', 'salt']\"), ('n_ingredients', '15')])\n",
      "indian spinach and potatoes\n",
      "OrderedDict([('name', 'indian spinach and potatoes'), ('id', '254003'), ('minutes', '80'), ('contributor_id', '353379'), ('submitted', '2007-09-19'), ('tags', \"['time-to-make', 'course', 'main-ingredient', 'preparation', 'low-protein', 'healthy', 'main-dish', 'potatoes', 'vegetables', 'low-fat', 'vegetarian', 'dietary', 'low-sodium', 'low-cholesterol', 'low-saturated-fat', 'low-calorie', 'healthy-2', 'low-in-something', '4-hours-or-less']\"), ('nutrition', '[188.9, 8.0, 28.0, 3.0, 13.0, 4.0, 10.0]'), ('n_steps', '19'), ('steps', \"['put the potatoes in a large pot of salted water and bring to a boil', 'boil over moderate heat until tender when pierced with a knife , about 25 minutes', 'drain and let cool , then halve the potatoes', 'meanwhile , in a large , deep skillet , bring the water to a boil', 'working in batches , add the spinach by handfuls and cook over moderately high heat until wilted', 'using tongs , transfer the spinach to a colander and repeat with the remaining spinach', 'squeeze the spinach dry , then transfer it to a food processor and puree', 'wipe out the skillet', 'heat the oil in the same skillet', 'add the onion and cook over moderately high heat , stirring occasionally , until beginning to brown , about 8 minutes', 'add the garlic , ginger and jalapeos and cook , stirring , until fragrant , about 3 minutes', 'add the chopped tomatoes and cilantro and cook over moderate heat until most of the liquid has evaporated , about 10 minutes', 'add the coriander , cumin , paprika and garam masala to the skillet and cook , stirring , for about 2 minutes', 'slowly stir in the yogurt', 'add the potatoes and a large pinch of salt , cover and cook over moderately low heat for 5 minutes , stirring occasionally', 'add the pureed spinach and stir well', 'cover and simmer for 10 minutes to blend the flavors', 'season with salt', 'transfer the potatoes and spinach to a platter or bowl , garnish with the cilantro leaves and serve']\"), ('description', 'this is a indian dish that i particularly enjoy.  its got a little spice and you can add extra jalapeños if you want more of a kick.'), ('ingredients', \"['small red potatoes', 'water', 'baby spinach', 'vegetable oil', 'onion', 'garlic cloves', 'fresh ginger', 'jalapenos', 'tomatoes', 'fresh cilantro', 'ground coriander', 'ground cumin', 'paprika', 'garam masala', 'low-fat plain yogurt', 'salt', 'cilantro']\"), ('n_ingredients', '17')])\n",
      "indian style curried potato salad\n",
      "OrderedDict([('name', 'indian style curried potato salad'), ('id', '31169'), ('minutes', '35'), ('contributor_id', '39547'), ('submitted', '2002-06-13'), ('tags', \"['60-minutes-or-less', 'time-to-make', 'course', 'main-ingredient', 'cuisine', 'preparation', 'occasion', 'lunch', 'side-dishes', 'fruit', 'potatoes', 'vegetables', 'asian', 'indian', 'potluck', 'picnic', 'nuts', 'stove-top', 'dietary', 'comfort-food', 'taste-mood', 'to-go', 'equipment']\"), ('nutrition', '[278.1, 19.0, 11.0, 12.0, 11.0, 11.0, 12.0]'), ('n_steps', '13'), ('steps', '[\\'wash the potatoes well\\', \"do not peel them- cut them in half if they\\'re small , into quarters if large\", \\'heat the oil in a skillet over medium heat\\', \\'add the cashews and cook until browned , 2 to 3 minutes\\', \\'remove the nuts from the skillet and set them aside\\', \\'in the remaining oil , cook the onion , ginger and garlic over medium-low heat until very tender , about 5 minutes\\', \\'stir in the curry powder , turmeric and salt\\', \\'add the potatoes and toss with the seasonings\\', \\'add the water and yogurt , cover and cook over medium heat until the potatoes are tender , 20 to 25 minutes\\', \\'if the heat is too high and the potatoes dry out , add water , a tablespoon at a time\\', \\'stir in the cashews , then the cilantro\\', \\'turn the salad out onto a platter or into a bowl and serve at room temperature\\', \\'source: from the la times\\']'), ('description', 'playing recipe alphabet, and here\\'s my \"i\" entry. :) i haven\\'t made this recipe yet, but it looks delicious! i think i\\'d like to try this after it\\'s been chilled, as well as warm as indicated.'), ('ingredients', \"['baby red potatoes', 'oil', 'cashew pieces', 'onion', 'gingerroot', 'garlic', 'madras curry powder', 'ground turmeric', 'salt', 'water', 'plain yogurt', 'cilantro leaf']\"), ('n_ingredients', '12')])\n",
      "kickin  sweet potato koftas with mango raita\n",
      "OrderedDict([('name', 'kickin  sweet potato koftas with mango raita'), ('id', '52941'), ('minutes', '45'), ('contributor_id', '47858'), ('submitted', '2003-02-02'), ('tags', \"['60-minutes-or-less', 'time-to-make', 'preparation']\"), ('nutrition', '[317.8, 16.0, 53.0, 16.0, 22.0, 23.0, 15.0]'), ('n_steps', '19'), ('steps', '[\\'for the koftas\\', \\'preheat oven to 400 degrees\\', \\'in a small pot , bring 1 1 / 2 cups of water to a boil\\', \\'add the red lentils , cover and simmer for about 30 minutes or until the lentils are soft\\', \\'remove lentils from heat and cool\\', \\'peel sweet potatoes and dice them into 1 / 2 inch cubes\\', \\'in a medium pot , bring about 3 cups of water to a boil\\', \\'add sweet potato and simmer until tender\\', \\'drain and mash\\', \\'allow mashed potatoes to cool\\', \\'combine cooled lentils and mashed sweet potato with the rest of the ingredients and mix thoroughly\\', \\'using a small scoop or a tablespoon , form 1 inch balls and bake 1 inch apart non-stick baking sheet for about 30 minutes\\', \\'the koftas will be golden and wonderfully fragrant\\', \\'forthe raita\\', \\'heat oil in a small skillet over medium heat\\', \\'when oil is good and hot , add mustard seeds\\', \\'stir and continue to cook them until they pop\\', \\'in a medium size bowl , combine all ingredients\\', \"it\\'s best to let this mixture rest for about 30 minutes in the refridgerator so the flavors can develop\"]'), ('description', 'a vegetarian delight that happened one night when i was craving sweet potato and something kind of curried! other vegetarian koftas use green peas, but the red lentils deliver a nutty flavor and creamier texture that is out of this world. the sweet and sticky dates, coupled with the toasted coconut just push these little treats right over the top! serve with basmati rice and extra mango chutney for a sensory feast!'), ('ingredients', \"['sweet potatoes', 'red lentil', 'dates', 'coconut', 'garlic', 'fresh ginger', 'jalapeno peppers', 'ground cumin', 'toasted sesame seeds', 'cilantro', 'salt and pepper', 'cornstarch', 'baking powder', 'light coconut milk', 'mango chutney', 'lime juice', 'plain yogurt', 'salt', 'canola oil', 'black mustard seeds']\"), ('n_ingredients', '20')])\n",
      "lamb and potato vindaloo\n",
      "OrderedDict([('name', 'lamb and potato vindaloo'), ('id', '307214'), ('minutes', '135'), ('contributor_id', '246752'), ('submitted', '2008-06-04'), ('tags', \"['curries', 'time-to-make', 'course', 'main-ingredient', 'cuisine', 'preparation', 'occasion', 'main-dish', 'lamb-sheep', 'potatoes', 'vegetables', 'asian', 'indian', 'dinner-party', 'spicy', 'one-dish-meal', 'meat', 'taste-mood', '4-hours-or-less']\"), ('nutrition', '[1375.1, 158.0, 28.0, 12.0, 151.0, 206.0, 11.0]'), ('n_steps', '21'), ('steps', \"['combine ginger , garlic , 2 tablespoons vegetable oil and next 7 ingredients in processor', 'puree until paste forms', 'heat remaining 1 tablespoon of oil in heavy large pot over medium high heat', 'add half of lamb', 'saut until brown , about 8 minutes', 'using slotted spoon , transfer lamb to bowl', 'repeat with remaining lamb', 'add onions and spice paste to pot', 'saut until onions are tender , about 8 minutes', 'return lamb to pot', 'add tomato puree , yogurt and vinegar', 'simmer over medium heat until sauce is thick , stirring occasionally , about 15 minutes', 'add 5 cups water', 'increase heat and bring to boil', 'reduce heat to medium', 'gently simmer uncovered until lamb is almost tender , about 50 minutes', 'add potatoes', 'cover and simmer until potatoes and lamb are tender , stirring occasionally , about 35 minutes', 'season to taste with salt and pepper', 'transfer to serving bowl', 'sprinkle with cilantro']\"), ('description', \"i found this recipe on the idaho potato commission website.  i've only made it once but it was really yummy.  vindaloo is a type of indian curry and uses several different spices.  if you do not have some of these spices they are easy to find at a neighborhood grocery store.  serve over rice.\"), ('ingredients', \"['fresh ginger', 'garlic cloves', 'vegetable oil', 'paprika', 'ground cumin', 'turmeric', 'ground coriander', 'dry crushed red pepper', 'ground cardamom', 'ground cloves', 'lamb shoulder', 'onions', 'tomato puree', 'plain yogurt', 'white wine vinegar', 'water', 'russet potatoes', 'fresh cilantro']\"), ('n_ingredients', '18')])\n",
      "lentil sambar\n",
      "OrderedDict([('name', 'lentil sambar'), ('id', '47552'), ('minutes', '80'), ('contributor_id', '37449'), ('submitted', '2002-11-24'), ('tags', \"['weeknight', 'time-to-make', 'main-ingredient', 'cuisine', 'preparation', 'healthy', 'beans', 'vegetables', 'asian', 'indian', 'low-fat', 'vegetarian', 'dietary', 'low-sodium', 'low-cholesterol', 'low-saturated-fat', 'low-calorie', 'lentils', 'healthy-2', 'low-in-something', 'cauliflower', '4-hours-or-less']\"), ('nutrition', '[215.0, 3.0, 28.0, 18.0, 23.0, 1.0, 12.0]'), ('n_steps', '12'), ('steps', \"['rinse the lentils , place them in a small saucepan with the 3 cups of water , and bring them to a boil', 'reduce the heat , cover , and simmer for 45 to 60 minutes , until tender', 'stir occasionally , adding more water if necessary', 'while the lentils are cooking , chop the onion , cauliflower , sweet potatoes , and bell pepper into bite-sized pieces and set aside', 'warm the oil in a pot and saute the mustard , fenugreek , and cumin seeds on medium heat , covering the pot and shaking it occasionally to prevent burning', 'when the mustard seeds begin to pop , stir in the turmeric , coriander , cinnamom , cayenne , and chopped chile and saute for another 2 minutes , stirring constantly', 'stir in the tamarind liquid , then add the onions , cauliflower , sweet potatoes , and salt and combine', 'cover and simmer for 10 minutes', 'add the bell peppers , cover , and continue to cook until all of the vegetables are tender , about 5 minutes', 'drain the cooked lentils and stir them into the vegetable mixture', 'reheat if necessary , then stir in the cilantro', 'ladle over basmati rice and serve with mango peach chutney and a generous dollop of yogurt , if desired']\"), ('description', \"a colorful dish that pleases the eye and the palate. make it as spicy as you dare! great served with recipe #47554. this recipe is from moosewood restaurant's low-fat favorites, a great cookbook.\"), ('ingredients', \"['dried lentils', 'water', 'onion', 'cauliflower', 'sweet potatoes', 'red bell pepper', 'vegetable oil', 'mustard seeds', 'fenugreek seeds', 'cumin seed', 'turmeric', 'ground coriander', 'ground cinnamon', 'cayenne', 'green chili pepper', 'tamarind paste', 'hot water', 'salt', 'fresh cilantro', 'brown basmati rice', 'peach chutney', 'nonfat yogurt']\"), ('n_ingredients', '22')])\n",
      "lentils and potatoes curry\n",
      "OrderedDict([('name', 'lentils and potatoes curry'), ('id', '409854'), ('minutes', '45'), ('contributor_id', '1020526'), ('submitted', '2010-01-23'), ('tags', \"['60-minutes-or-less', 'time-to-make', 'course', 'main-ingredient', 'preparation', 'soups-stews', 'beans', 'vegan', 'vegetarian', 'dietary', 'low-sodium', 'lentils', 'low-in-something']\"), ('nutrition', '[448.4, 28.0, 31.0, 2.0, 34.0, 79.0, 18.0]'), ('n_steps', '10'), ('steps', '[\\'rinse the lentils\\', \\'heat the lentils , coconut milk and water , and curry powder to a simmer\\', \"if you don\\'t have coconut milk or prefer it without you may use all water or chicken broth or vegetable broth in it\\'s place\", \\'stir lentils , cover partially and cook for 15 minutes\\', \\'stir occasionally\\', \\'add the cubed potatoes and stir in , then cover the pan completely and cook 10 minutes or so depending on how large the potato cubes are\\', \\'if the lentils start to look too dry , add some more water\\', \"you don\\'t want them soupy but they should be moist\", \\'add salt and pepper to taste and cook another 10 minutes or so\\', \\'serve with yogurt and cilantro\\']'), ('description', \"i love lentils because you don't have to soak them before they cook (no advance planning required).  this is a very simple recipe with great flavor.  recipe courtesy of how to cook everything vegetarian:  simple meatless recipes for great food.  serving size is estimated.\"), ('ingredients', \"['brown lentils', 'coconut milk', 'water', 'curry powder', 'potatoes', 'salt', 'pepper', 'plain yogurt', 'fresh cilantro']\"), ('n_ingredients', '9')])\n",
      "lou s green tomato soup\n",
      "OrderedDict([('name', 'lou s green tomato soup'), ('id', '84584'), ('minutes', '90'), ('contributor_id', '123220'), ('submitted', '2004-02-20'), ('tags', \"['time-to-make', 'course', 'cuisine', 'preparation', 'bisques-cream-soups', 'soups-stews', 'asian', 'indian', 'dietary', '4-hours-or-less']\"), ('nutrition', '[334.0, 25.0, 67.0, 24.0, 21.0, 11.0, 13.0]'), ('n_steps', '8'), ('steps', \"['heat the oil in a large heavy pot over medium heat', 'add the onions , garlic , ginger , coriander and cumin and cook , stirring , until the onions are soft and translucent , about 5 minutes', 'add the tomatoes , pepper , potatoes , broth , chili pepper and sugar', 'bring to a boil , reduce heat to low , and simmer , covered , for 30 minutes', 'pure the soup in batches in a blender or food processor', 'return the soup to a pot and add the milk and salt', 'heat to a simmer', 'serve garnished with a dollop of yogurt , cashews , and cilantro leaves']\"), ('description', \"i garden. at the end of the year i had a lot of green tomatoes whose blossom end had not blushed, thus they will never ripen. this is a recipe i created to use green tomatoes. this year i'll make a lot more and freeze it.\"), ('ingredients', \"['grapeseed oil', 'onion', 'gingerroot', 'garlic', 'coriander seed', 'cumin seeds', 'green tomatoes', 'green bell pepper', 'red chili pepper', 'potato', 'chicken stock', 'palm sugar', 'skim milk', 'salt', 'nonfat yogurt', 'cashews', 'cilantro leaf']\"), ('n_ingredients', '17')])\n",
      "malai kofta  vegetable dumplings in curry sauce\n",
      "OrderedDict([('name', 'malai kofta  vegetable dumplings in curry sauce'), ('id', '310325'), ('minutes', '90'), ('contributor_id', '249358'), ('submitted', '2008-06-23'), ('tags', \"['curries', 'time-to-make', 'course', 'main-ingredient', 'cuisine', 'preparation', 'for-1-or-2', 'main-dish', 'vegetables', 'asian', 'indian', 'vegetarian', 'dietary', 'number-of-servings', '4-hours-or-less']\"), ('nutrition', '[448.4, 32.0, 68.0, 58.0, 27.0, 38.0, 20.0]'), ('n_steps', '23'), ('steps', \"['koftas:', 'boil potatoes , drain , cool and grate 1 cup', 'defrost 1 cup peas and carrots in microwave', 'using cheesecloth , squeeze moisture out of peas & carrots', 'in a medium-size bowl , combine vegetables with grated potatoes', 'grate 1 cup paneer and add to vegetable mixture', 'add 1 small handful chopped cilantro , chopped green chiles , 2 tbsp coriander powder , 1 tbsp cumin powder , a sprinkle of chile powder , 1 / 2 tsp salt', 'add medium-ground cashews and 1 / 8 cup raisins and mix well', 'with your hands , form into round koftas 1 1 / 2 to 2 inches in diameter and roll in flour , coating all sides of koftas', 'deep fry in oil in a wok or kadai until golden brown on each side and place on a paper towel to drain', 'curry sauce:', 'in a skillet , preferably large and cast iron: fry the chopped onion over medium heat in 3 tablespoons oil with 1 / 2 tsp salt until caramelized and brown', 'add all ginger garlic paste , turmeric , chopped tomatoes , a sprinkle of chili powder , 1 tbsp cumin and 2 tbsp coriander powder', 'cook and when the mixture is getting dry add about 2 cups water', 'heat and cook until tomatoes are nicely cooked , about 10 - 15 minutes', 'remove from pan and puree in a food processor or blender until smooth', 'in the same skillet , add a small handful of jeera seeds and cook until they crackle', 'pour in the sauce mixture', 'heat for about 5 minutes on medium', 'add cream to the sauce and yogurt , stirring well', 'turn off heat', 'add koftas , mix to cover with sauce and allow to absorb sauce', 'sprinkle on some garam masala and some chopped cilantro and serve']\"), ('description', \"adapted from a recipe i saw on the vah reh vah (vah chef) cooking show. this is really good - not too watery or too creamy. make sure you slice the onions very thinly, add the salt to them and cook them for a fairly long time until they are a caramel color. make sure to add the full amount of water to the sauce as well. the amount of spices may seem like a lot, but trust me, it's good!\"), ('ingredients', \"['panir', 'cream', 'goat milk yogurt', 'fresh cilantro', 'thai green chili', 'frozen peas and carrot', 'russet potato', 'tomatoes', 'garlic cloves', 'minced ginger', 'coriander powder', 'cumin powder', 'turmeric powder', 'yellow onion', 'jeera powder', 'red chili powder', 'cashews', 'raisins', 'salt', 'cornflour', 'vegetable oil', 'cheesecloth', 'water', 'garam masala']\"), ('n_ingredients', '24')])\n",
      "moosewood golden split pea and sweet potato soup\n",
      "OrderedDict([('name', 'moosewood golden split pea and sweet potato soup'), ('id', '361146'), ('minutes', '140'), ('contributor_id', '352538'), ('submitted', '2009-03-16'), ('tags', \"['time-to-make', 'course', 'main-ingredient', 'preparation', 'soups-stews', 'vegetables', 'easy', 'beginner-cook', 'vegetarian', 'dietary', 'inexpensive', '4-hours-or-less']\"), ('nutrition', '[227.6, 4.0, 27.0, 1.0, 27.0, 2.0, 12.0]'), ('n_steps', '9'), ('steps', \"['heat oil in large saucepan over medium high heat', 'add onion and jalapeno and saute until tender , about 3 minutes', 'stir in ginger and next 4 ingredients and cook 1 minute', 'mix in 7 cups water , sweet potatoes and split peas', 'bring to a boil , reduce heat to medium low , cover and simmer about 1', '5 hours until potatoes and peas are very tender', 'whisk soup vigorously for a smoother texture and thin with additional water if needed', 'season with salt and pepper', 'top each serving with a tablespoon of yogurt , a lime slice and some cilantro to serve']\"), ('description', 'i wanted to save this before i tried it.  it is a bit different from the other moosewood golden split pea sweet potato soup already posted on zaar.  this came from a january 1992 bon appetit article on the moosewood restaurant.'), ('ingredients', \"['vegetable oil', 'onion', 'jalapeno pepper', 'fresh ginger', 'cumin', 'coriander', 'turmeric', 'cinnamon', 'water', 'sweet potato', 'yellow split peas', 'nonfat yogurt', 'lime slices', 'fresh cilantro']\"), ('n_ingredients', '14')])\n",
      "moroccan spiced chickpea or garbanzo soup\n",
      "OrderedDict([('name', 'moroccan spiced chickpea or garbanzo soup'), ('id', '391963'), ('minutes', '30'), ('contributor_id', '55392'), ('submitted', '2009-09-28'), ('tags', \"['30-minutes-or-less', 'time-to-make', 'course', 'main-ingredient', 'cuisine', 'preparation', 'occasion', 'main-dish', 'soups-stews', 'potatoes', 'vegetables', 'african', 'fall', 'winter', 'dietary', 'seasonal', 'inexpensive', 'egg-free', 'free-of-something', 'onions', 'tomatoes', 'taste-mood', 'savory']\"), ('nutrition', '[333.5, 9.0, 37.0, 41.0, 24.0, 7.0, 20.0]'), ('n_steps', '9'), ('steps', \"['saute onions in in oil on med heat for about 3 mins in a dutch oven', 'add garlic , ginger and all of the spices up to the salt and saute another minute', 'add broth and bring to a light boil making sure to scrape any bits off of the bottom of pot', 'add potatoes , chickpeas and tomatoes then bring heat down to med-low', 'cook until potatoes are fork tender about 10-15 minutes', 'take off heat , add lemon juice and stir', 'add yogurt a little bit at a time and stir', 'stir in cilantro', 'serve with naan or chapati']\"), ('description', \"although my son hates chickpeas the rest of us loves them, so i guess he has to suffer occasionally! this recipe came out of looking for just the right recipe to get the flavors that i was looking for. i discovered that you have to temper yogurt before you add it and there are a couple of methods to do that. one is bringing the yogurt to room temperature and stirring well before adding it to the soup and make sure not to boil it. the other was adding some cornstarch and water to the yogurt before adding it.  there are other methods involving eggs, but i'm not too keen on eggs in soup. i haven't tried the tempering yet and the first attempt at making this the yogurt curdled, but we ate it anyway and the flavors were good, so i will make it again and either temper the yogurt or add it at each serving. i also understand that if you reheat the soup it may curdle if you put the yogurt in before heating, so keep that in mind. you can also add celery and carrots, but i wanted to keep it simple and not overpower the other flavors.\"), ('ingredients', \"['olive oil', 'onion', 'garlic cloves', 'ginger', 'turmeric', 'cumin', 'garam masala', 'cinnamon', 'ground coriander', 'salt', 'vegetable broth', 'pepper', 'potato', 'chickpeas', 'tomatoes', 'stewed tomatoes', 'lemon juice', 'yogurt', 'cilantro']\"), ('n_ingredients', '19')])\n",
      "new potatoes in spinach sauce\n",
      "OrderedDict([('name', 'new potatoes in spinach sauce'), ('id', '111844'), ('minutes', '50'), ('contributor_id', '52282'), ('submitted', '2005-02-24'), ('tags', \"['60-minutes-or-less', 'time-to-make', 'course', 'main-ingredient', 'cuisine', 'preparation', 'low-protein', 'healthy', 'side-dishes', 'potatoes', 'vegetables', 'asian', 'indian', 'low-fat', 'vegetarian', 'stove-top', 'dietary', 'low-sodium', 'low-cholesterol', 'low-saturated-fat', 'low-calorie', 'low-carb', 'healthy-2', 'low-in-something', 'greens', 'spinach', 'equipment']\"), ('nutrition', '[300.5, 14.0, 29.0, 6.0, 21.0, 8.0, 16.0]'), ('n_steps', '19'), ('steps', \"['put the potatoes in a large pot of salted water and bring to a boil', 'boil over moderate heat until tender when pierced with a knife , about 25 minutes', 'drain and let cool , then halve the potatoes', 'meanwhile , in a large , deep skillet , bring the water to a boil', 'working in batches , add the spinach by handfuls and cook over moderately high heat until wilted', 'using tongs , transfer the spinach to a colander and repeat with the remaining spinach', 'squeeze the spinach dry , then transfer it to a food processor and puree', 'wipe out the skillet', 'heat the oil in the same skillet', 'add the onion and cook over moderately high heat , stirring occasionally , until beginning to brown , about 8 minutes', 'add the garlic , ginger and jalapeos and cook , stirring , until fragrant , about 3 minutes', 'add the chopped tomatoes and cilantro and cook over moderate heat until most of the liquid has evaporated , about 10 minutes', 'add the coriander , cumin , paprika and garam masala to the skillet and cook , stirring , for about 2 minutes', 'slowly stir in the yogurt', 'add the potatoes and a large pinch of salt , cover and cook over moderately low heat for 5 minutes , stirring occasionally', 'add the pureed spinach and stir well', 'cover and simmer for 10 minutes to blend the flavors', 'season with salt', 'transfer the potatoes and spinach to a platter or bowl , garnish with the cilantro leaves and cherry tomatoes and serve']\"), ('description', 'this is similar to saag paneer, which i love to eat in indian restaurants. from food and wine, this is very easy to prepare.'), ('ingredients', \"['small red potatoes', 'water', 'baby spinach', 'vegetable oil', 'onion', 'garlic cloves', 'fresh ginger', 'jalapenos', 'tomatoes', 'cilantro', 'cilantro leaf', 'ground coriander', 'ground cumin', 'paprika', 'garam masala', 'plain yogurt', 'salt', 'cherry tomatoes']\"), ('n_ingredients', '18')])\n",
      "potato and pea curry\n",
      "OrderedDict([('name', 'potato and pea curry'), ('id', '162417'), ('minutes', '40'), ('contributor_id', '302958'), ('submitted', '2006-03-31'), ('tags', \"['curries', '60-minutes-or-less', 'time-to-make', 'course', 'main-ingredient', 'cuisine', 'preparation', 'main-dish', 'potatoes', 'vegetables', 'asian', 'indian', 'easy', 'vegetarian', 'dietary', 'inexpensive']\"), ('nutrition', '[345.0, 21.0, 30.0, 2.0, 15.0, 9.0, 16.0]'), ('n_steps', '9'), ('steps', \"['heat oil in pan', 'add onion and garlic , cook until onion is soft', 'add potato and spices , cook another 2 minutes', 'add tomatoes and water , bring to boil', 'simmer for 20 minutes , stirring occasionally', 'when potato is tender , add peas', 'cook until peas are hot', 'stir yogurt and parsley or mint together in a separate bowl', 'serve curry over rice with a dollop of cooling yogurt']\"), ('description', \"this is a quick and easy curry which you can serve with rice. don't be afraid to add extra spices - the yogurt side dish will cool you down.\"), ('ingredients', \"['vegetable oil', 'brown onion', 'garlic', 'ground cumin', 'ground cilantro', 'ground fennel', 'ground turmeric', 'cayenne pepper', 'garam masala', 'potatoes', 'tomatoes', 'water', 'frozen peas', 'greek yogurt', 'parsley']\"), ('n_ingredients', '15')])\n",
      "ranchero roasted vegetable enchiladas  rsc\n",
      "OrderedDict([('name', 'ranchero roasted vegetable enchiladas  rsc'), ('id', '495118'), ('minutes', '109'), ('contributor_id', '2686218'), ('submitted', '2013-02-10'), ('tags', \"['weeknight', 'time-to-make', 'course', 'main-ingredient', 'cuisine', 'preparation', 'occasion', 'north-american', 'casseroles', 'main-dish', 'beans', 'vegetables', 'american', 'mexican', 'vegetarian', 'dietary', 'black-beans', '4-hours-or-less', 'leftovers', 'hidden-valley-ranch']\"), ('nutrition', '[642.4, 42.0, 49.0, 58.0, 47.0, 55.0, 26.0]'), ('n_steps', '18'), ('steps', \"['preheat oven to 400 degrees', 'combine potatoes , frozen corn and onions in large glass bowl', 'add olive oil and half of ranch seasoning packet , toss to combine', 'spread mixture evenly on a large rimmed baking sheet lined with parchment paper', 'roast , stirring once half way through cook time , until vegetables are tender and crisp approximately 30 minutes', 'meanwhile , place baby spinach in glass bowl , cover with paper towel and microwave for 2-3 minutes until spinach is wilted', 'strain spinach and squeeze out excess water', 'strain black beans', 'mix together beans , spinach , the remaining ranch seasoning and 2 ounces of shredded cheese', 'fold in roasted vegetables', 'reduce oven temperature to 375 degrees', 'lightly oil both an 8 x 11 inch casserole dish and an 8 x 8 casserole dish', 'assemble enchiladas by filling tortillas with cup of vegetable mixture , roll and place in casserole dish seam side down', 'wisk together enchilada sauce and greek yogurt until smooth', 'ladle sauce evenly over enchiladas , top with remaining 6 ounces of cheese', 'cover pans with aluminum foil and bake for 30 minutes', 'remove foil and bake an additional 5-10 minutes until cheese is bubbly', 'garnish with cilantro']\"), ('description', '“ready, set, cook! hidden valley contest entry” red potatoes, corn and onions tossed with ranch seasoning then roasted to perfection are blended with black beans, spinach and cheese to create an enchilada filing so zesty and robust you won’t miss the meat! roll in soft flour tortillas, smother in cream sauce, then top with cheese and your family will have a new favorite for meatless mondays!'), ('ingredients', \"['red potatoes', 'frozen sweet corn', 'sweet onions', 'olive oil', 'hidden valley original ranch seasoning mix', 'baby spinach leaves', 'low-sodium black beans', 'soft taco-size flour tortillas', 'enchilada sauce', 'greek yogurt', 'monterey jack and cheddar cheese blend', 'fresh cilantro']\"), ('n_ingredients', '12')])\n",
      "refreshing sweet potato salad\n",
      "OrderedDict([('name', 'refreshing sweet potato salad'), ('id', '487402'), ('minutes', '60'), ('contributor_id', '2324285'), ('submitted', '2012-09-24'), ('tags', \"['60-minutes-or-less', 'time-to-make', 'course', 'main-ingredient', 'cuisine', 'preparation', 'yams-sweet-potatoes', 'north-american', 'low-protein', 'healthy', 'salads', 'side-dishes', 'potatoes', 'vegetables', 'caribbean', 'low-fat', 'dietary', 'low-sodium', 'low-cholesterol', 'low-saturated-fat', 'low-calorie', 'healthy-2', 'low-in-something']\"), ('nutrition', '[262.7, 3.0, 68.0, 19.0, 12.0, 6.0, 18.0]'), ('n_steps', '7'), ('steps', \"['preheat the oven to 400f', 'wash and pierce the potatoes all over , and bake in the oven for 40 minutes , or until tender', 'mix the cilantro , lime juice , yogurt , honey / agave nectar , salt , and pepper in a small bowl', 'chill', 'when potatoes are done and cool enough to handle , peel them and cut into cubes', 'in a large bowl , combine potatoes with bell pepper , celery , onion , and serrano pepper , then drizzle the chilled dressing on top', 'mix well , chill , and then serve']\"), ('description', 'this is a unique potato salad you can serve at a bbq, or with asian or caribbean food.  it looks beautiful, and has never failed to surprise anyone with its blend of flavors.'), ('ingredients', \"['sweet potatoes', 'cilantro', 'lime', 'plain yogurt', 'honey', 'salt', 'black pepper', 'bell pepper', 'celery ribs', 'red onion', 'serrano pepper']\"), ('n_ingredients', '11')])\n",
      "samosa soup\n",
      "OrderedDict([('name', 'samosa soup'), ('id', '209882'), ('minutes', '50'), ('contributor_id', '445492'), ('submitted', '2007-02-07'), ('tags', \"['60-minutes-or-less', 'time-to-make', 'course', 'main-ingredient', 'cuisine', 'preparation', 'occasion', 'clear-soups', 'lunch', 'soups-stews', 'potatoes', 'vegetables', 'asian', 'indian', 'vegetarian', 'stove-top', 'dietary', 'spicy', 'inexpensive', 'taste-mood', 'equipment']\"), ('nutrition', '[147.4, 11.0, 13.0, 1.0, 7.0, 6.0, 5.0]'), ('n_steps', '9'), ('steps', \"['heat oil in a large saucepan and add the potatoes , garlic and onion', 'saute over a low heat for 5 minutes', 'add the cayenne pepper , cumin , garam masala and cilantro', 'stir well', 'add the vegetable stock and bring mixture to a boil', 'cover the pan , reduce heat and simmer for 20 minutes', 'add peas and continue to cook the soup for another 5 minutes', 'ladle into four individual serving bowls and spoon a tablespoon of yogurt on top of each', 'enjoy']\"), ('description', \"this soup was the product of an insatiable craving for samosas and no indian restaurant nearby. making indian appetizers is way too much work and the overpowering stench of a deep fryer is enough to permeate your home for days. so, i created this soup which tastes just like a samosa - and it's low fat too! this was quick and easy to prepare and quite good. it tasted very similar to a nice spicy samosa and was complemented nicely by storebought nan bread.\"), ('ingredients', \"['olive oil', 'potatoes', 'onion', 'garlic cloves', 'cayenne pepper', 'cumin', 'garam masala', 'fresh cilantro', 'vegetable stock', 'frozen green peas', 'plain yogurt']\"), ('n_ingredients', '11')])\n",
      "spiced indian cauliflower soup\n",
      "OrderedDict([('name', 'spiced indian cauliflower soup'), ('id', '378737'), ('minutes', '40'), ('contributor_id', '630439'), ('submitted', '2009-06-24'), ('tags', \"['60-minutes-or-less', 'time-to-make', 'course', 'main-ingredient', 'cuisine', 'preparation', 'soups-stews', 'vegetables', 'asian', 'indian', 'vegetarian', 'dietary', 'cauliflower']\"), ('nutrition', '[190.6, 10.0, 28.0, 2.0, 13.0, 10.0, 9.0]'), ('n_steps', '9'), ('steps', \"['put the potato , cauliflower , and onion in a large sauce pot with the oil and 3 tablespoons of water', 'heat until hot and bubbling , then cover and turn the heat down', 'cook for about ten minutes', 'add the garlic , ginger , and spices', 'stir well and cook for another two minutes , stirring occasionally', 'pour in the vegetable stock and season well', 'bring to a boil then cover and simmer for about 20 minutes', 'stir in the yogurt , adjust seasonings again if needed', 'serve with cilantro']\"), ('description', \"taken from the ultimate vegetarian cookbook, roz denny, 1994, anness publishing ltd., page 18.  this soup has a great flavor and creamy texture, but doesn't have the fat that cream or half and half has.  makes a great first course or light meal.  i am going through boxes and boxes of old cook books and recipezaar-ing my fave recipes... then i will take the cookbooks themselves to goodwill.  back 15 years ago when i first used this recipe, vegetable stock was unheard of in the area i was living.  now i can find vegetable stock easily.  i'm going to be making a lot more of this soup.\"), ('ingredients', \"['potato', 'cauliflower', 'onion', 'sunflower oil', 'garlic clove', 'fresh ginger', 'ground turmeric', 'cumin seed', 'black mustard seeds', 'ground coriander', 'vegetable stock', 'yogurt', 'salt & freshly ground black pepper', 'cilantro']\"), ('n_ingredients', '14')])\n",
      "spicy root   lentil casserole\n",
      "OrderedDict([('name', 'spicy root   lentil casserole'), ('id', '357035'), ('minutes', '45'), ('contributor_id', '287420'), ('submitted', '2009-02-22'), ('tags', \"['curries', '60-minutes-or-less', 'time-to-make', 'course', 'main-ingredient', 'cuisine', 'preparation', 'occasion', 'main-dish', 'beans', 'potatoes', 'vegetables', 'asian', 'indian', 'easy', 'kid-friendly', 'vegetarian', 'winter', 'dietary', 'spicy', 'seasonal', 'comfort-food', 'inexpensive', 'lentils', 'onions', 'taste-mood', 'savory', 'presentation', 'served-hot']\"), ('nutrition', '[384.6, 12.0, 51.0, 3.0, 27.0, 6.0, 22.0]'), ('n_steps', '6'), ('steps', \"['heat the oil in a large pan and cook the onion and garlic over a medium heat for 3-4 minutes until softened , stirring occasionally', 'stir in the curry paste or powder , pour in the stock and then bring to the boil', 'reduce the heat , add the lentils , cover and simmer for 15-20 minutes until the lentils and vegetables are tender and the sauce has thickened', 'stir in most of the cilantro , season and heat for a minute or so', 'top with yogurt and the rest of the cilantro', 'serve with naan bread']\"), ('description', 'the potatoes in this recipe take on the spicy flavours beautifully -  the perfect veggie supper. serve with yogurt and nan bread if you wish.'), ('ingredients', \"['sunflower oil', 'onion', 'garlic cloves', 'potatoes', 'carrots', 'parsnips', 'chopped tomatoes', 'medium curry paste', 'vegetable stock', 'red lentils', 'fresh cilantro', 'low-fat plain yogurt']\"), ('n_ingredients', '12')])\n",
      "squash and chickpea moroccan stew\n",
      "OrderedDict([('name', 'squash and chickpea moroccan stew'), ('id', '354119'), ('minutes', '27'), ('contributor_id', '539990'), ('submitted', '2009-02-06'), ('tags', \"['30-minutes-or-less', 'time-to-make', 'course', 'main-ingredient', 'preparation', 'main-dish', 'beans', 'vegetables', 'easy', 'dietary', 'chick-peas-garbanzos', 'squash', '3-steps-or-less']\"), ('nutrition', '[276.0, 14.0, 20.0, 26.0, 17.0, 11.0, 14.0]'), ('n_steps', '9'), ('steps', \"['heat butter and olive oil in a 3- to 4-quart dutch oven or heavy-bottomed saucepan with a tight fitting lid over medium heat', 'when oil shimmers , add onion , garlic , cumin , and cinnamon , and season with salt and freshly ground black pepper', 'cook , stirring occasionally , until spices are aromatic and onions are soft and translucent , about 5 minutes', 'add squash and potatoes , season with salt and freshly ground black pepper , stir to coat , and cook until just tender , about 3 minutes', 'add broth , chickpeas , tomatoes and their juices , and saffron , if using', 'bring mixture to a boil then reduce heat to low', 'cover and simmer until squash is fork tender , about 10 minutes', 'remove from heat and stir in preserved lemon and olives', 'serve over couscous garnished with cilantro , almonds , and yogurt']\"), ('description', 'i have not had a chance to try this yet.  from ask aida\\'s \"light & healthy\" episode.  you can substitute veggie stock for the chicken stock to make this recipe vegetarian, and of course you can opt not to use the yogurt to make it vegan as well. :)'), ('ingredients', \"['unsalted butter', 'olive oil', 'yellow onion', 'garlic cloves', 'ground cumin', 'cinnamon sticks', 'salt & freshly ground black pepper', 'butternut squash', 'red potatoes', 'low sodium chicken broth', 'chickpeas', 'diced tomatoes', 'saffron thread', 'preserved lemon', 'green olives in brine', 'couscous', 'fresh cilantro leaves', 'slivered almonds', 'plain yogurt']\"), ('n_ingredients', '19')])\n",
      "tangy potato avocado salad\n",
      "OrderedDict([('name', 'tangy potato avocado salad'), ('id', '66960'), ('minutes', '35'), ('contributor_id', '69838'), ('submitted', '2003-07-16'), ('tags', \"['60-minutes-or-less', 'time-to-make', 'course', 'main-ingredient', 'preparation', 'occasion', 'salads', 'potatoes', 'vegetables', 'potluck', 'picnic', 'vegetarian', 'dietary', 'to-go']\"), ('nutrition', '[236.2, 14.0, 23.0, 15.0, 10.0, 7.0, 11.0]'), ('n_steps', '12'), ('steps', \"['first you will need to boil your potato cubes in a large pot with water to cover', 'boil approx 15 minutes , until just tender', 'meanwhile , toss avocado cubes with 2 tablespoons of lime juice and set aside', 'drain the potatoes once tender , and place in bowl of cold water', 'once your potatoes have cooled , drain well and place in a large bowl', 'then whisk 1 / 4 cup lime juice , crushed garlic , honey mustard , sugar , salt , pepper , extra virgin olive oil , and yogurt in a nonreactive bowl to make the dressing', 'taste , and adjust seasoning to your liking', 'pour the dressing over the potatoes and toss gently', 'then gently fold in the avocados , onions and cilantro', 'you may serve this at room temperature , but it is best covered tightly and chilled for 1-3 hrs before serving', 'can be prepared up to three hours in advance before serving', 'enjoy !']\"), ('description', 'this recipe is from the local newspaper. it says that it is a recipe adapted from one from the ca. avocado commission. its a wonderful recipe, that is heart healthy, and lighter because the wonderful tangy dressing substitutes for mayo in most salads such as this. lots of wonderful flavors, textures, and colors!'), ('ingredients', \"['red potatoes', 'water', 'avocados', 'fresh lime juice', 'garlic', 'honey mustard', 'sugar', 'salt', 'fresh ground black pepper', 'extra virgin olive oil', 'nonfat plain yogurt', 'sweet onion', 'fresh cilantro leaves']\"), ('n_ingredients', '13')])\n",
      "tunisian potato salad with cumin\n",
      "OrderedDict([('name', 'tunisian potato salad with cumin'), ('id', '504026'), ('minutes', '30'), ('contributor_id', '47892'), ('submitted', '2013-07-14'), ('tags', \"['30-minutes-or-less', 'time-to-make', 'course', 'main-ingredient', 'cuisine', 'preparation', 'low-protein', 'salads', 'potatoes', 'vegetables', 'african', 'easy', 'vegetarian', 'dietary', 'low-sodium', 'low-cholesterol', 'low-saturated-fat', 'low-calorie', 'healthy-2', 'low-in-something', '3-steps-or-less']\"), ('nutrition', '[208.3, 11.0, 10.0, 0.0, 8.0, 6.0, 10.0]'), ('n_steps', '10'), ('steps', '[\\'steam or boil the potatoes until tender-about 15-20 minutes\\', \\'i very slightly undercook the potatoes for best results\\', \\'after the potatoes have cooked , refresh under cold water , drain and cut into cubes\\', \\'after the potato salad had cooled in the refrigerator then the fresh cilantro was stirred in just before serving\\', \\'i wanted to avoid \"cooking\" the fresh herbs\\', \\'combine the remaining ingredients except for the herb in a large bowl and mix well\\', \\'add the potatoes to the bowl and toss with the dressing\\', \\'can serve warm\\', \\'or chill and serve\\', \\'stir in the herbs just before serving\\']'), ('description', 'from mediterranean light by martha rose shulman.'), ('ingredients', \"['potatoes', 'harissa', 'ground cumin', 'lemon', 'extra virgin olive oil', 'plain yogurt', 'fresh cilantro']\"), ('n_ingredients', '7')])\n",
      "vegetable  stew  from  northern  india\n",
      "OrderedDict([('name', 'vegetable  stew  from  northern  india'), ('id', '420313'), ('minutes', '90'), ('contributor_id', '1422300'), ('submitted', '2010-04-13'), ('tags', \"['weeknight', 'time-to-make', 'main-ingredient', 'cuisine', 'preparation', 'occasion', 'low-protein', 'healthy', 'potatoes', 'vegetables', 'asian', 'indian', 'diabetic', 'low-fat', 'vegetarian', 'dietary', 'low-cholesterol', 'low-saturated-fat', 'low-calorie', 'healthy-2', 'low-in-something', 'taste-mood', 'savory', '4-hours-or-less']\"), ('nutrition', '[245.5, 5.0, 31.0, 27.0, 14.0, 2.0, 15.0]'), ('n_steps', '23'), ('steps', \"['heat oil in a dutch oven over medium heat', 'add onions and cook , stirring often , until fragrant and beginning to brown , 5 to 6 minutes', 'add garlic and cook until fragrant about 1 minute', 'add ground cumin , coriander , cinnamon , cardamom and cayenne', 'cook stirring until fragrant , for about 30 to 60 seconds', 'add potatoes , water and salt', 'bring to a simmer', 'cover and cook for 10 minutes', 'add chickpeas , tomatoes and carrots', 'stir to combine', 'bring to a simmer', 'reduce heat to low and simmer partially covered , stirring occasionally and adding 1 / 2 cup water , if needed , until the potatoes and the carrots are tender for about 30 to 35 minutes', 'stir in cilantro', 'serve with yogurt , if desired', 'nutrition per serving: 264 calories', '4 g fat', '1 g sat', '2 g cholesterol', '51 g carbohydrates', '9 g protein', '10 g fiber', '604 mg sodium', '997 mg potassium 3 carbohydrate serving exchanges: 2 starch , 2 vegetable , 1 very lean meat']\"), ('description', 'this is a very good vegetarian dish with lots of flavor. a recipe from one of my eating well magazines. enjoy it.'), ('ingredients', \"['olive oil', 'onion', 'garlic cloves', 'ground cumin', 'ground coriander', 'ground cinnamon', 'cardamom', 'cayenne pepper', 'new potato', 'water', 'salt', 'chickpeas', 'crushed tomatoes', 'baby carrots', 'fresh cilantro', 'low-fat plain yogurt']\"), ('n_ingredients', '16')])\n",
      "vegetable korma curry\n",
      "OrderedDict([('name', 'vegetable korma curry'), ('id', '7801'), ('minutes', '70'), ('contributor_id', '39547'), ('submitted', '2000-03-13'), ('tags', \"['time-to-make', 'preparation', 'vegetarian', 'dietary', 'stir-fry', 'technique', '4-hours-or-less']\"), ('nutrition', '[297.5, 31.0, 35.0, 9.0, 13.0, 78.0, 9.0]'), ('n_steps', '12'), ('steps', \"['heat butter / ghee / oil in a large wok style pan over medium-low heat', 'add curry powder , garam masala , cumin , nutmeg , and cinnamon and allow to cook 2 minutes , stirring occasionally', 'mix in onion and garlic', 'increase temperature and saute until onion is near translucent', 'add tomatoes , green chiles , and vegetable broth and bring to a simmer', 'mix in the potatoes , cauliflower , carrots , green beans , and cilantro', 'cover and cook over medium-low heat for 25 to 30 minutes , until vegetables are tender , but firm', 'mix in sliced red bell pepper , coconut milk , and cashew butter', 'cook 15 minutes', 'remove from heat , stir in yogurt , and season to taste with salt', 'during the cooking , there should be enough liquid to form a good korma sauce base , if more sauce is desired , add additional vegetable broth', 'serve over basamati rice and garnish with chopped cashews']\"), ('description', 'i love korma - my favorite meat curry is chicken korma.  :)  so when this recipe came up for adoption, i was very pleased to be able to take it in and give it a new home!  many thanks to carla for helping with the editing of this recipe.'), ('ingredients', \"['butter', 'curry powder', 'garam masala', 'ground cumin', 'ground nutmeg', 'cinnamon', 'onion', 'garlic', 'chopped tomatoes', 'mild chiles', 'vegetable broth', 'white potatoes', 'cauliflower florets', 'carrots', 'fresh green beans', 'fresh cilantro', 'red bell pepper', 'coconut milk', 'smooth cashew butter', 'plain yogurt', 'salt', 'cashews']\"), ('n_ingredients', '22')])\n",
      "vegetarian biryani\n",
      "OrderedDict([('name', 'vegetarian biryani'), ('id', '482984'), ('minutes', '35'), ('contributor_id', '227978'), ('submitted', '2012-07-11'), ('tags', \"['60-minutes-or-less', 'time-to-make', 'course', 'main-ingredient', 'cuisine', 'preparation', 'main-dish', 'side-dishes', 'rice', 'asian', 'indian', 'easy', 'pakistani', 'vegetarian', 'dietary', 'pasta-rice-and-grains', 'long-grain-rice', '3-steps-or-less']\"), ('nutrition', '[446.1, 15.0, 35.0, 43.0, 23.0, 16.0, 26.0]'), ('n_steps', '11'), ('steps', \"['bring water and salt to a boil', 'stir in the rice and boil until rice has absorbed all the water , about 10 to 15 minutes', 'drain the rice and return rice to the pot , and cover to keep warm', 'meanwhile , in a large frying pan , melt the ghee with the oil over moderately low heat', 'add the onion and cook , stirring occasionally , until translucent , about 5 minutes', 'add the garlic and ginger and cook , stirring , until fragrant , about 1 minute', 'stir in the cumin , turmeric , curry powder , and cayenne and cook , stirring , for 1 minute longer', 'add the potato , carrots , water , and salt', 'increase the heat to moderately high and simmer until the vegetables are tender and no liquid remains in the pan , about 10 minutes', 'to serve , stir the peas into the other vegetables and remove the pan from the heat', 'stir in the yogurt and rice and serve topped with the jalapeno , tomato , and cilantro']\"), ('description', \"this recipe is from the cooking.com website.  it's a vegetarian version of the classic indian main dish that features basmati rice, potato, carrots and peas and plenty of aromatic and flavorful indian spices.  it's also popular in pakistan.  as a main dish, it serves 4; but as a side dish it can serve 6-8 people.\"), ('ingredients', \"['basmati rice', 'water', 'salt', 'ghee', 'cooking oil', 'onion', 'garlic cloves', 'fresh ginger', 'ground cumin', 'turmeric', 'curry powder', 'cayenne pepper', 'baking potato', 'carrots', 'frozen peas', 'plain yogurt', 'jalapeno chile', 'tomatoes', 'cilantro leaf']\"), ('n_ingredients', '19')])\n",
      "yumm potato\n",
      "OrderedDict([('name', 'yumm potato'), ('id', '293504'), ('minutes', '25'), ('contributor_id', '795904'), ('submitted', '2008-03-21'), ('tags', \"['30-minutes-or-less', 'time-to-make', 'course', 'main-ingredient', 'cuisine', 'preparation', 'lunch', 'main-dish', 'snacks', 'potatoes', 'vegetables', 'asian', 'indian', 'vegetarian', 'dietary']\"), ('nutrition', '[150.4, 0.0, 8.0, 0.0, 6.0, 0.0, 11.0]'), ('n_steps', '10'), ('steps', \"['mash the potatoes', 'mix all ingredients except for the butter', 'shape into small spheres and flatten at the centre', 'heat a griddle or tava on the stove', 'place the potato rounds on them and bast with butter , roasting them on both sides till they brown', 'serve hot with chopped onions and ketchup', 'variations: you can add peas and onions to the mashed potatoes prior to shaping them', 'adding breadcrumbs , or conflour , or flour , or rice flour will make it easier for you to shape them and roast them', 'the spicier indian version is known as aloo tikki', 'can also be served between a sandwich or with curries']\"), ('description', 'a tastier way to eat mashed potatoes'), ('ingredients', \"['boiled potatoes', 'cilantro', 'ginger-garlic paste', 'green chili', 'yogurt', 'salt', 'pepper', 'butter']\"), ('n_ingredients', '8')])\n",
      "zingy south western potato salad\n",
      "OrderedDict([('name', 'zingy south western potato salad'), ('id', '378831'), ('minutes', '40'), ('contributor_id', '80353'), ('submitted', '2009-06-25'), ('tags', \"['60-minutes-or-less', 'time-to-make', 'course', 'main-ingredient', 'preparation', 'occasion', 'salads', 'potatoes', 'vegetables', 'easy', 'picnic', 'to-go', '3-steps-or-less']\"), ('nutrition', '[381.3, 29.0, 37.0, 11.0, 13.0, 17.0, 16.0]'), ('n_steps', '6'), ('steps', \"['to make dressing: whisk sugar into vinegar until it dissolves', 'in a mini-processor , zap all the dressing ingredients until a creamy dressing is formed', 'put all the potato salad ingredients into a bowl', 'pour dressing over and combine to coat evenly', 'season to taste with salt and pepper', 'refrigerate 2-3 hours before serving to allow flavours to blend']\"), ('description', 'the chipotle-yogurt dressing on this scrummy potato salad is sooooooo good! a great salad for your next picnic.'), ('ingredients', \"['celery ribs', 'red onion', 'red radish', 'red bell pepper', 'cilantro', 'new potatoes', 'avocado', 'salt and pepper', 'apple cider vinegar', 'sugar', 'mayonnaise', 'plain yogurt', 'milk', 'chipotle chile in adobo', 'adobo sauce', 'garlic clove']\"), ('n_ingredients', '16')])\n"
     ]
    }
   ],
   "source": [
    "for i in csv_recipes:\n",
    "\n",
    "    #if i['name']=='indian potato cakes aloo tikki with cilantro chutney yogurt':\n",
    "    if 'cilantro' in i['ingredients'] and \"potato\" in i['ingredients'] and \"yogurt\" in i['ingredients']:\n",
    "        #and \"rice\" in i['ingredients']:\n",
    "        print(i['name'])\n",
    "        print(i)\n",
    "        #print(\"fghj\")\n",
    "    "
   ]
  },
  {
   "cell_type": "code",
   "execution_count": 7,
   "metadata": {},
   "outputs": [
    {
     "name": "stdin",
     "output_type": "stream",
     "text": [
      "What is your priorities when finding a recipe? Would you like to sort this list by shortest amount of time to cook (a), smallest number of steps (b), or smallest number of ingredients (c)? c\n"
     ]
    }
   ],
   "source": [
    "matching_recipes = []\n",
    "\n",
    "sorting = input(\"What is your priorities when finding a recipe? Would you like to sort this list by shortest amount of time to cook (a), smallest number of steps (b), or smallest number of ingredients (c)?\")\n",
    "\n",
    "\n",
    "if sorting == 'a':\n",
    "    sorting='time'\n",
    "elif sorting == 'b':\n",
    "    sorting = 'number_steps'\n",
    "elif sorting == 'c':\n",
    "    sorting = 'num_ingredients'\n",
    "\n",
    "def iterate():\n",
    "    for i in csv_recipes:\n",
    "        matches = True\n",
    "        for x in split_ingred:\n",
    "            if x not in i['ingredients']:\n",
    "                matches = False\n",
    "        if matches:\n",
    "            matching_recipes.append({'name': [i['name']],'descrip':[i['description']], 'number_steps':[i['n_steps']], 'time':[i['minutes']],'steps':[i['steps']],\n",
    "                                    'ingred': [i['ingredients']],\n",
    "                                    'num_ingredients': [i['n_ingredients']]})\n",
    "            matching_recipes.sort(key=lambda x: x[sorting])\n",
    "            \n",
    "\n",
    "iterate()\n",
    "        \n",
    "\n"
   ]
  },
  {
   "cell_type": "code",
   "execution_count": 8,
   "metadata": {},
   "outputs": [
    {
     "name": "stdout",
     "output_type": "stream",
     "text": [
      "These are the top 5 recipes:\n",
      "\n",
      "»chicken curry in crispy rice cases\n",
      "»gluten free soft sugar cookies\n",
      "»banana and coconut pancakes\n",
      "»firecracker shrimp\n",
      "»crispy chicken with peanut dipping sauce\n",
      "\n",
      "\n"
     ]
    },
    {
     "name": "stdin",
     "output_type": "stream",
     "text": [
      "Would you like to see the 'description', 'number of steps', 'time to prepare' or 'steps' for one of these recipes?  description\n"
     ]
    },
    {
     "name": "stdout",
     "output_type": "stream",
     "text": [
      "\n",
      "\n"
     ]
    },
    {
     "name": "stdin",
     "output_type": "stream",
     "text": [
      "Which recipe would you like to see the description of? Copy & paste the recipe here: crispy chicken with peanut dipping sauce\n"
     ]
    },
    {
     "name": "stdout",
     "output_type": "stream",
     "text": [
      "\n",
      "\n",
      "Description: ['this recipe has chicken breasts, dipped in egg whites and rolled in a \\nherb-crispy rice cereal flakes and baked, then served with a peanut \\ndipping sauce.  made for rsc12.  changes have been made due to feedback from reviews...thank you for all your comments!!!']\n",
      "\n",
      "\n"
     ]
    },
    {
     "name": "stdin",
     "output_type": "stream",
     "text": [
      "Do you want to see any information on other recipes? yes or no?  yes\n"
     ]
    },
    {
     "name": "stdout",
     "output_type": "stream",
     "text": [
      "\n",
      "\n",
      "These are the top 5 recipes:\n",
      "\n",
      "»chicken curry in crispy rice cases\n",
      "»gluten free soft sugar cookies\n",
      "»banana and coconut pancakes\n",
      "»firecracker shrimp\n",
      "»crispy chicken with peanut dipping sauce\n",
      "\n",
      "\n"
     ]
    },
    {
     "name": "stdin",
     "output_type": "stream",
     "text": [
      "Would you like to see the 'description', 'number of steps', 'time to prepare' or 'steps' for one of these recipes?  description\n"
     ]
    },
    {
     "name": "stdout",
     "output_type": "stream",
     "text": [
      "\n",
      "\n"
     ]
    },
    {
     "name": "stdin",
     "output_type": "stream",
     "text": [
      "Which recipe would you like to see the description of? Copy & paste the recipe here: crispy chicken with peanut dipping sauce\n"
     ]
    },
    {
     "name": "stdout",
     "output_type": "stream",
     "text": [
      "\n",
      "\n",
      "Description: ['this recipe has chicken breasts, dipped in egg whites and rolled in a \\nherb-crispy rice cereal flakes and baked, then served with a peanut \\ndipping sauce.  made for rsc12.  changes have been made due to feedback from reviews...thank you for all your comments!!!']\n",
      "\n",
      "\n"
     ]
    },
    {
     "name": "stdin",
     "output_type": "stream",
     "text": [
      "Do you want to see any information on other recipes? yes or no?  no\n"
     ]
    },
    {
     "name": "stdout",
     "output_type": "stream",
     "text": [
      "\n",
      "\n",
      "Good luck with your recipe! ツ\n"
     ]
    }
   ],
   "source": [
    "def information():\n",
    "    print(\"These are the top 5 recipes:\\n\")\n",
    "    for y in matching_recipes[0:5]:\n",
    "        for key in y['name']:\n",
    "            print(\"»\" + key)\n",
    "        \n",
    "    print(\"\\n\")\n",
    "    \n",
    "    narrow = input(\"Would you like to see the 'description', 'number of steps', 'time to prepare' or 'steps' for one of these recipes? \")\n",
    "    print(\"\\n\")\n",
    "\n",
    "\n",
    "    def selection():\n",
    "        if narrow == 'description':\n",
    "            r = input(\"Which recipe would you like to see the description of? Copy & paste the recipe here:\")\n",
    "            print(\"\\n\")\n",
    "            for y in matching_recipes:\n",
    "                for key in y['name']:\n",
    "                    if r == key:\n",
    "                        print(\"Description:\", y['descrip'])\n",
    "    \n",
    "        if narrow == 'number of steps':\n",
    "            r = input(\"Which recipe would you like to see the amount of steps for? Copy & paste the recipe here:  \")\n",
    "            print(\"\\n\")\n",
    "            for y in matching_recipes:\n",
    "                for key in y['name']:\n",
    "                    if r == key:\n",
    "                        print(\"This recipe has\", y['number_steps'], \"steps.\")\n",
    "\n",
    "        if narrow == 'time to prepare':\n",
    "            r = input(\"Which recipe would you like to see the amount of time it takes in minutes? Copy & paste the recipe here:\")\n",
    "            print(\"\\n\")\n",
    "            for y in matching_recipes:\n",
    "                for key in y['name']:\n",
    "                    if r == key:\n",
    "                        print(\"This recipe takes\", y['time'], \"minutes.\")  \n",
    "    \n",
    "        if narrow == 'steps':\n",
    "            r = input(\"Which recipe would you like to see the steps for? Copy & paste the recipe here:\")\n",
    "            print(\"\\n\")\n",
    "            for y in matching_recipes:\n",
    "                for key in y['name']:\n",
    "                    if r == key:\n",
    "                        print(\"These are the steps: \\n\\n \", str(y['steps']).replace(',' , '\\n'))\n",
    "    selection()\n",
    "\n",
    "    print(\"\\n\")\n",
    "    \n",
    "    again= input(\"Do you want to see any information on other recipes? yes or no? \").lower()\n",
    "\n",
    "    if again == \"yes\":\n",
    "        print(\"\\n\")\n",
    "        information()\n",
    "    else:\n",
    "        print(\"\\n\\nGood luck with your recipe! ツ\")\n",
    "        quit()\n",
    "        \n",
    "        \n",
    "information()"
   ]
  },
  {
   "cell_type": "code",
   "execution_count": null,
   "metadata": {},
   "outputs": [],
   "source": []
  }
 ],
 "metadata": {
  "kernelspec": {
   "display_name": "Python 3",
   "language": "python",
   "name": "python3"
  },
  "language_info": {
   "codemirror_mode": {
    "name": "ipython",
    "version": 3
   },
   "file_extension": ".py",
   "mimetype": "text/x-python",
   "name": "python",
   "nbconvert_exporter": "python",
   "pygments_lexer": "ipython3",
   "version": "3.7.4"
  }
 },
 "nbformat": 4,
 "nbformat_minor": 4
}
