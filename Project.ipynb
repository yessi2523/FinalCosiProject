{
 "cells": [
  {
   "cell_type": "markdown",
   "metadata": {},
   "source": [
    "# <center style=\"color:turquoise\">𝟜𝟘𝟜 ℂ𝕠𝕕𝕖 ℕ𝕠𝕥 𝔽𝕠𝕦𝕟𝕕</center> ",
    "\n",
    "### <center style=\"color:turquoise\">𝚃𝚎𝚊𝚖: 𝙲𝚢𝚗𝚝𝚑𝚒𝚊 𝙼𝚎𝚗𝚗𝚊, 𝚃𝚒𝚊𝚗𝚢𝚒 𝙶𝚊𝚘, 𝙴𝚖𝚒𝚕𝚢 𝙽𝚊, 𝙹𝚎𝚜𝚜𝚒𝚌𝚊 𝚃𝚊𝚒, 𝚈𝚎𝚜𝚜𝚎𝚗𝚒𝚊 𝚃𝚎𝚓𝚎𝚍𝚊</center> ",
    "\n",
    "### <center style=\"color:violet\">ℚ𝕦𝕒𝕣𝕒𝕥𝕚𝕟𝕖 𝔼𝕒𝕥𝕤: 𝙾𝚞𝚛 𝚙𝚛𝚘𝚓𝚎𝚌𝚝 𝚒𝚜 𝚊 𝙹𝚞𝚙𝚢𝚝𝚎𝚛 𝚗𝚘𝚝𝚎𝚋𝚘𝚘𝚔 𝚝𝚑𝚊𝚝 𝚊𝚜𝚔𝚜 𝚝𝚑𝚎 𝚞𝚜𝚎𝚛 𝚝𝚘 𝚒𝚗𝚙𝚞𝚝 𝚒𝚗𝚐𝚛𝚎𝚍𝚒𝚎𝚗𝚝𝚜 𝚝𝚑𝚎𝚢 𝚠𝚊𝚗𝚝 𝚝𝚘 𝚞𝚜𝚎 𝚏𝚘𝚛 𝚊 𝚛𝚎𝚌𝚒𝚙𝚎 𝚊𝚗𝚍 𝚠𝚎 𝚛𝚎𝚝𝚞𝚛𝚗 𝚊𝚕𝚕 𝚝𝚑𝚎 𝚛𝚎𝚌𝚒𝚙𝚎𝚜 𝚝𝚑𝚊𝚝 𝚒𝚗𝚌𝚕𝚞𝚍𝚎 𝚊𝚕𝚕 𝚘𝚏 𝚝𝚑𝚎 𝚒𝚗𝚐𝚛𝚎𝚍𝚒𝚎𝚗𝚝𝚜 𝚝𝚑𝚎𝚢 𝚠𝚊𝚗𝚝.</center>\n"
   ]
  },
  {
   "cell_type": "code",
   "execution_count": 1,
   "metadata": {},
   "outputs": [
    {
     "name": "stdout",
     "output_type": "stream",
     "text": [
      "this list has 231637 items in it\n"
     ]
    },
    {
     "data": {
      "text/plain": [
       "OrderedDict([('name', 'comfort able kamikaze'),\n",
       "             ('id', '285606'),\n",
       "             ('minutes', '2'),\n",
       "             ('contributor_id', '237783'),\n",
       "             ('submitted', '2008-02-09'),\n",
       "             ('tags',\n",
       "              \"['15-minutes-or-less', 'time-to-make', 'course', 'preparation', 'occasion', 'for-1-or-2', '5-ingredients-or-less', 'beverages', 'easy', 'dinner-party', 'cocktails', 'taste-mood', 'number-of-servings', '3-steps-or-less']\"),\n",
       "             ('nutrition', '[109.6, 0.0, 1.0, 1.0, 0.0, 0.0, 0.0]'),\n",
       "             ('n_steps', '2'),\n",
       "             ('steps',\n",
       "              \"['shake for 15 seconds', 'serve straight up or on the rocks , whichever you prefer']\"),\n",
       "             ('description',\n",
       "              'good for those un\"comfort\"able aches and pains!'),\n",
       "             ('ingredients',\n",
       "              \"['southern comfort', 'triple sec', 'lime juice', 'ice cubes']\"),\n",
       "             ('n_ingredients', '4')])"
      ]
     },
     "execution_count": 1,
     "metadata": {},
     "output_type": "execute_result"
    }
   ],
   "source": [
    "import csv\n",
    "csv_recipes = list(csv.DictReader(open('RAW_recipes.csv','r'),delimiter=','))\n",
    "\n",
    "# print the first five lines\n",
    "print(\"this list has\",len(csv_recipes),\"items in it\")\n",
    "csv_recipes[351]"
   ]
  },
  {
   "cell_type": "code",
   "execution_count": 2,
   "metadata": {},
   "outputs": [
    {
     "name": "stdout",
     "output_type": "stream",
     "text": [
      "Hi! Welcome to Quaratine Eats! Here, we will be helping you find recipes you can make with the limited ingredients you may have in the house.\n",
      "\n",
      "It may seem like certain things don't go together, but try inputting the ingredients you have and we'll see what recipes we can come up with!\n",
      "\n",
      "When inputting your ingredients, remember to please seperate them by commas with no spaces in between!\n",
      "\n"
     ]
    }
   ],
   "source": [
    "print(\"Hi! Welcome to Quaratine Eats! Here, we will be helping you find recipes you can make with the limited ingredients you may have in the house.\\n\")\n",
    "print(\"It may seem like certain things don't go together, but try inputting the ingredients you have and we'll see what recipes we can come up with!\\n\")\n",
    "print(\"When inputting your ingredients, remember to please seperate them by commas with no spaces in between!\\n\")"
   ]
  },
  {
   "cell_type": "code",
   "execution_count": 31,
   "metadata": {},
   "outputs": [
    {
     "name": "stdin",
     "output_type": "stream",
     "text": [
      "Your ingredients? lime juice,egg,flour,rice\n"
     ]
    }
   ],
   "source": [
    "ingred_list = str(input(\"Your ingredients?\"))"
   ]
  },
  {
   "cell_type": "code",
   "execution_count": 32,
   "metadata": {},
   "outputs": [
    {
     "name": "stdout",
     "output_type": "stream",
     "text": [
      "['lime juice', 'egg', 'flour', 'rice']\n"
     ]
    },
    {
     "data": {
      "text/plain": [
       "4"
      ]
     },
     "execution_count": 32,
     "metadata": {},
     "output_type": "execute_result"
    }
   ],
   "source": [
    "split_ingred = ingred_list.split(\",\")\n",
    "print(split_ingred)\n",
    "len(split_ingred)"
   ]
  },
  {
   "cell_type": "code",
   "execution_count": 41,
   "metadata": {},
   "outputs": [
    {
     "name": "stdout",
     "output_type": "stream",
     "text": [
      "banana and coconut pancakes\n",
      "chicken curry in crispy rice cases\n",
      "crispy chicken with peanut dipping sauce\n",
      "gluten free soft sugar cookies\n"
     ]
    }
   ],
   "source": [
    "for i in csv_recipes:\n",
    "    if 'egg' in i['ingredients'] and \"lime juice\" in i['ingredients'] and \"flour\" in i['ingredients'] and \"rice\" in i['ingredients']:\n",
    "        print(i['name'])\n",
    "    "
   ]
  },
  {
   "cell_type": "code",
   "execution_count": 45,
   "metadata": {},
   "outputs": [
    {
     "name": "stdin",
     "output_type": "stream",
     "text": [
      "What is your priorities when finding a recipe? Would you like to sort this list by shortest amount of time to cook, smallest number of steps, or smallest number of ingredients? shortest amount of time to cook\n"
     ]
    },
    {
     "name": "stdout",
     "output_type": "stream",
     "text": [
      "here recipes\n"
     ]
    },
    {
     "ename": "KeyError",
     "evalue": "'shortest amount of time to cook'",
     "output_type": "error",
     "traceback": [
      "\u001b[0;31m---------------------------------------------------------------------------\u001b[0m",
      "\u001b[0;31mKeyError\u001b[0m                                  Traceback (most recent call last)",
      "\u001b[0;32m<ipython-input-45-b93a0d98d0a7>\u001b[0m in \u001b[0;36m<module>\u001b[0;34m\u001b[0m\n\u001b[1;32m     21\u001b[0m \u001b[0;32mif\u001b[0m \u001b[0msorting\u001b[0m \u001b[0;34m==\u001b[0m \u001b[0;34m'shortest amount of time to cook'\u001b[0m\u001b[0;34m:\u001b[0m\u001b[0;34m\u001b[0m\u001b[0;34m\u001b[0m\u001b[0m\n\u001b[1;32m     22\u001b[0m     \u001b[0mprint\u001b[0m\u001b[0;34m(\u001b[0m\u001b[0;34m\"here recipes\"\u001b[0m\u001b[0;34m)\u001b[0m\u001b[0;34m\u001b[0m\u001b[0;34m\u001b[0m\u001b[0m\n\u001b[0;32m---> 23\u001b[0;31m     \u001b[0miterate\u001b[0m\u001b[0;34m(\u001b[0m\u001b[0;34m)\u001b[0m\u001b[0;34m\u001b[0m\u001b[0;34m\u001b[0m\u001b[0m\n\u001b[0m\u001b[1;32m     24\u001b[0m \u001b[0;32melif\u001b[0m \u001b[0msorting\u001b[0m \u001b[0;34m==\u001b[0m \u001b[0;34m'smallest number of steps'\u001b[0m\u001b[0;34m:\u001b[0m\u001b[0;34m\u001b[0m\u001b[0;34m\u001b[0m\u001b[0m\n\u001b[1;32m     25\u001b[0m     \u001b[0msorting\u001b[0m \u001b[0;34m==\u001b[0m \u001b[0;34m'steps'\u001b[0m\u001b[0;34m\u001b[0m\u001b[0;34m\u001b[0m\u001b[0m\n",
      "\u001b[0;32m<ipython-input-45-b93a0d98d0a7>\u001b[0m in \u001b[0;36miterate\u001b[0;34m()\u001b[0m\n\u001b[1;32m     15\u001b[0m                                     \u001b[0;34m'ingred'\u001b[0m\u001b[0;34m:\u001b[0m \u001b[0;34m[\u001b[0m\u001b[0mi\u001b[0m\u001b[0;34m[\u001b[0m\u001b[0;34m'ingredients'\u001b[0m\u001b[0;34m]\u001b[0m\u001b[0;34m]\u001b[0m\u001b[0;34m,\u001b[0m\u001b[0;34m\u001b[0m\u001b[0;34m\u001b[0m\u001b[0m\n\u001b[1;32m     16\u001b[0m                                     'num_ingredients': [i['n_ingredients']]})\n\u001b[0;32m---> 17\u001b[0;31m             \u001b[0mmatching_recipes\u001b[0m\u001b[0;34m.\u001b[0m\u001b[0msort\u001b[0m\u001b[0;34m(\u001b[0m\u001b[0mkey\u001b[0m\u001b[0;34m=\u001b[0m\u001b[0;32mlambda\u001b[0m \u001b[0mx\u001b[0m\u001b[0;34m:\u001b[0m \u001b[0mx\u001b[0m\u001b[0;34m[\u001b[0m\u001b[0msorting\u001b[0m\u001b[0;34m]\u001b[0m\u001b[0;34m)\u001b[0m\u001b[0;34m\u001b[0m\u001b[0;34m\u001b[0m\u001b[0m\n\u001b[0m\u001b[1;32m     18\u001b[0m \u001b[0;34m\u001b[0m\u001b[0m\n\u001b[1;32m     19\u001b[0m     \u001b[0;32mreturn\u001b[0m \u001b[0mmatching_recipes\u001b[0m\u001b[0;34m\u001b[0m\u001b[0;34m\u001b[0m\u001b[0m\n",
      "\u001b[0;32m<ipython-input-45-b93a0d98d0a7>\u001b[0m in \u001b[0;36m<lambda>\u001b[0;34m(x)\u001b[0m\n\u001b[1;32m     15\u001b[0m                                     \u001b[0;34m'ingred'\u001b[0m\u001b[0;34m:\u001b[0m \u001b[0;34m[\u001b[0m\u001b[0mi\u001b[0m\u001b[0;34m[\u001b[0m\u001b[0;34m'ingredients'\u001b[0m\u001b[0;34m]\u001b[0m\u001b[0;34m]\u001b[0m\u001b[0;34m,\u001b[0m\u001b[0;34m\u001b[0m\u001b[0;34m\u001b[0m\u001b[0m\n\u001b[1;32m     16\u001b[0m                                     'num_ingredients': [i['n_ingredients']]})\n\u001b[0;32m---> 17\u001b[0;31m             \u001b[0mmatching_recipes\u001b[0m\u001b[0;34m.\u001b[0m\u001b[0msort\u001b[0m\u001b[0;34m(\u001b[0m\u001b[0mkey\u001b[0m\u001b[0;34m=\u001b[0m\u001b[0;32mlambda\u001b[0m \u001b[0mx\u001b[0m\u001b[0;34m:\u001b[0m \u001b[0mx\u001b[0m\u001b[0;34m[\u001b[0m\u001b[0msorting\u001b[0m\u001b[0;34m]\u001b[0m\u001b[0;34m)\u001b[0m\u001b[0;34m\u001b[0m\u001b[0;34m\u001b[0m\u001b[0m\n\u001b[0m\u001b[1;32m     18\u001b[0m \u001b[0;34m\u001b[0m\u001b[0m\n\u001b[1;32m     19\u001b[0m     \u001b[0;32mreturn\u001b[0m \u001b[0mmatching_recipes\u001b[0m\u001b[0;34m\u001b[0m\u001b[0;34m\u001b[0m\u001b[0m\n",
      "\u001b[0;31mKeyError\u001b[0m: 'shortest amount of time to cook'"
     ]
    }
   ],
   "source": [
    "matching_recipes = []\n",
    "\n",
    "sorting = input(\"What is your priorities when finding a recipe? Would you like to sort this list by shortest amount of time to cook, smallest number of steps, or smallest number of ingredients?\")\n",
    "\n",
    "\n",
    "if sorting == 'shortest amount of time to cook':\n",
    "    \n",
    "elif sorting == 'smallest number of steps':\n",
    "    sorting == 'steps'\n",
    "elif sorting == 'smallest number of ingredients':\n",
    "    sorting == 'num_ingredients'\n",
    "\n",
    "def iterate():\n",
    "    for i in csv_recipes:\n",
    "        matches = True\n",
    "        for x in split_ingred:\n",
    "            if x not in i['ingredients']:\n",
    "                matches = False\n",
    "        if matches:\n",
    "            matching_recipes.append({'name': [i['name']],'descrip':[i['description']], 'steps':[i['n_steps']], 'time':[i['minutes']],'steps':[i['steps']],\n",
    "                                    'ingred': [i['ingredients']],\n",
    "                                    'num_ingredients': [i['n_ingredients']]})\n",
    "            matching_recipes.sort(key=lambda x: x[sorting])\n",
    "            \n",
    "    return matching_recipes\n",
    "\n",
    "\n",
    "        \n",
    "\n"
   ]
  },
  {
   "cell_type": "code",
   "execution_count": 28,
   "metadata": {},
   "outputs": [
    {
     "name": "stdout",
     "output_type": "stream",
     "text": [
      "These are the top 5 recipes:\n",
      "\n",
      "»['chicken broth', 'chicken bouillon powder', 'garlic powder', 'fresh lemon juice', 'onion', 'celery', 'fresh ground black pepper', 'butter', 'flour', 'egg yolks', 'salt', 'chicken', 'cooked white rice', 'lemon slice']\n",
      "»['rice flour', 'egg', 'gluten free bread', 'italian seasoning', 'dill weed', 'fresh parsley', 'chicken breasts', 'honey mustard sauce', 'mayonnaise', 'honey', 'mustard', 'tartar sauce', 'sweet relish', 'lemon juice', 'salt and pepper']\n",
      "»['boneless skinless chicken breast halves', 'egg white', 'water', 'all-purpose flour', 'baking soda', 'cayenne pepper', 'cooking spray', 'lemon', 'green onion', 'sugar', 'chicken broth', 'lemon peel', 'lemon juice', 'light corn syrup', 'rice vinegar', 'salt', 'garlic clove', 'cornstarch', 'cold water']\n",
      "»['brown rice flour', 'tapioca flour', 'potato starch', 'sugar', 'baking powder', 'salt', 'baking soda', 'xanthan gum', 'bananas', 'lemon juice', 'eggs', 'canola oil', 'milk']\n",
      "»['graham crackers', 'rice krispies', 'whole wheat flour', 'all-purpose flour', 'baking powder', 'butter', 'egg', 'plain yogurt', 'eggs', 'splenda granular', 'lemon juice', 'vanilla', 'blueberries']\n",
      "\n",
      "\n"
     ]
    },
    {
     "ename": "KeyboardInterrupt",
     "evalue": "",
     "output_type": "error",
     "traceback": [
      "\u001b[0;31m---------------------------------------------------------------------------\u001b[0m",
      "\u001b[0;31mKeyboardInterrupt\u001b[0m                         Traceback (most recent call last)",
      "\u001b[0;32m/opt/anaconda3/lib/python3.7/site-packages/ipykernel/kernelbase.py\u001b[0m in \u001b[0;36m_input_request\u001b[0;34m(self, prompt, ident, parent, password)\u001b[0m\n\u001b[1;32m    884\u001b[0m             \u001b[0;32mtry\u001b[0m\u001b[0;34m:\u001b[0m\u001b[0;34m\u001b[0m\u001b[0;34m\u001b[0m\u001b[0m\n\u001b[0;32m--> 885\u001b[0;31m                 \u001b[0mident\u001b[0m\u001b[0;34m,\u001b[0m \u001b[0mreply\u001b[0m \u001b[0;34m=\u001b[0m \u001b[0mself\u001b[0m\u001b[0;34m.\u001b[0m\u001b[0msession\u001b[0m\u001b[0;34m.\u001b[0m\u001b[0mrecv\u001b[0m\u001b[0;34m(\u001b[0m\u001b[0mself\u001b[0m\u001b[0;34m.\u001b[0m\u001b[0mstdin_socket\u001b[0m\u001b[0;34m,\u001b[0m \u001b[0;36m0\u001b[0m\u001b[0;34m)\u001b[0m\u001b[0;34m\u001b[0m\u001b[0;34m\u001b[0m\u001b[0m\n\u001b[0m\u001b[1;32m    886\u001b[0m             \u001b[0;32mexcept\u001b[0m \u001b[0mException\u001b[0m\u001b[0;34m:\u001b[0m\u001b[0;34m\u001b[0m\u001b[0;34m\u001b[0m\u001b[0m\n",
      "\u001b[0;32m/opt/anaconda3/lib/python3.7/site-packages/jupyter_client/session.py\u001b[0m in \u001b[0;36mrecv\u001b[0;34m(self, socket, mode, content, copy)\u001b[0m\n\u001b[1;32m    802\u001b[0m         \u001b[0;32mtry\u001b[0m\u001b[0;34m:\u001b[0m\u001b[0;34m\u001b[0m\u001b[0;34m\u001b[0m\u001b[0m\n\u001b[0;32m--> 803\u001b[0;31m             \u001b[0mmsg_list\u001b[0m \u001b[0;34m=\u001b[0m \u001b[0msocket\u001b[0m\u001b[0;34m.\u001b[0m\u001b[0mrecv_multipart\u001b[0m\u001b[0;34m(\u001b[0m\u001b[0mmode\u001b[0m\u001b[0;34m,\u001b[0m \u001b[0mcopy\u001b[0m\u001b[0;34m=\u001b[0m\u001b[0mcopy\u001b[0m\u001b[0;34m)\u001b[0m\u001b[0;34m\u001b[0m\u001b[0;34m\u001b[0m\u001b[0m\n\u001b[0m\u001b[1;32m    804\u001b[0m         \u001b[0;32mexcept\u001b[0m \u001b[0mzmq\u001b[0m\u001b[0;34m.\u001b[0m\u001b[0mZMQError\u001b[0m \u001b[0;32mas\u001b[0m \u001b[0me\u001b[0m\u001b[0;34m:\u001b[0m\u001b[0;34m\u001b[0m\u001b[0;34m\u001b[0m\u001b[0m\n",
      "\u001b[0;32m/opt/anaconda3/lib/python3.7/site-packages/zmq/sugar/socket.py\u001b[0m in \u001b[0;36mrecv_multipart\u001b[0;34m(self, flags, copy, track)\u001b[0m\n\u001b[1;32m    474\u001b[0m         \"\"\"\n\u001b[0;32m--> 475\u001b[0;31m         \u001b[0mparts\u001b[0m \u001b[0;34m=\u001b[0m \u001b[0;34m[\u001b[0m\u001b[0mself\u001b[0m\u001b[0;34m.\u001b[0m\u001b[0mrecv\u001b[0m\u001b[0;34m(\u001b[0m\u001b[0mflags\u001b[0m\u001b[0;34m,\u001b[0m \u001b[0mcopy\u001b[0m\u001b[0;34m=\u001b[0m\u001b[0mcopy\u001b[0m\u001b[0;34m,\u001b[0m \u001b[0mtrack\u001b[0m\u001b[0;34m=\u001b[0m\u001b[0mtrack\u001b[0m\u001b[0;34m)\u001b[0m\u001b[0;34m]\u001b[0m\u001b[0;34m\u001b[0m\u001b[0;34m\u001b[0m\u001b[0m\n\u001b[0m\u001b[1;32m    476\u001b[0m         \u001b[0;31m# have first part already, only loop while more to receive\u001b[0m\u001b[0;34m\u001b[0m\u001b[0;34m\u001b[0m\u001b[0;34m\u001b[0m\u001b[0m\n",
      "\u001b[0;32mzmq/backend/cython/socket.pyx\u001b[0m in \u001b[0;36mzmq.backend.cython.socket.Socket.recv\u001b[0;34m()\u001b[0m\n",
      "\u001b[0;32mzmq/backend/cython/socket.pyx\u001b[0m in \u001b[0;36mzmq.backend.cython.socket.Socket.recv\u001b[0;34m()\u001b[0m\n",
      "\u001b[0;32mzmq/backend/cython/socket.pyx\u001b[0m in \u001b[0;36mzmq.backend.cython.socket._recv_copy\u001b[0;34m()\u001b[0m\n",
      "\u001b[0;32m/opt/anaconda3/lib/python3.7/site-packages/zmq/backend/cython/checkrc.pxd\u001b[0m in \u001b[0;36mzmq.backend.cython.checkrc._check_rc\u001b[0;34m()\u001b[0m\n",
      "\u001b[0;31mKeyboardInterrupt\u001b[0m: ",
      "\nDuring handling of the above exception, another exception occurred:\n",
      "\u001b[0;31mKeyboardInterrupt\u001b[0m                         Traceback (most recent call last)",
      "\u001b[0;32m<ipython-input-28-da4978d79f87>\u001b[0m in \u001b[0;36m<module>\u001b[0;34m\u001b[0m\n\u001b[1;32m     54\u001b[0m \u001b[0;34m\u001b[0m\u001b[0m\n\u001b[1;32m     55\u001b[0m \u001b[0;34m\u001b[0m\u001b[0m\n\u001b[0;32m---> 56\u001b[0;31m \u001b[0minformation\u001b[0m\u001b[0;34m(\u001b[0m\u001b[0;34m)\u001b[0m\u001b[0;34m\u001b[0m\u001b[0;34m\u001b[0m\u001b[0m\n\u001b[0m",
      "\u001b[0;32m<ipython-input-28-da4978d79f87>\u001b[0m in \u001b[0;36minformation\u001b[0;34m()\u001b[0m\n\u001b[1;32m      7\u001b[0m     \u001b[0mprint\u001b[0m\u001b[0;34m(\u001b[0m\u001b[0;34m\"\\n\"\u001b[0m\u001b[0;34m)\u001b[0m\u001b[0;34m\u001b[0m\u001b[0;34m\u001b[0m\u001b[0m\n\u001b[1;32m      8\u001b[0m \u001b[0;34m\u001b[0m\u001b[0m\n\u001b[0;32m----> 9\u001b[0;31m     \u001b[0mnarrow\u001b[0m \u001b[0;34m=\u001b[0m \u001b[0minput\u001b[0m\u001b[0;34m(\u001b[0m\u001b[0;34m\"Would you like to see the 'description', 'number of steps', 'time to prepare' or 'steps' for one of these recipes? \"\u001b[0m\u001b[0;34m)\u001b[0m\u001b[0;34m\u001b[0m\u001b[0;34m\u001b[0m\u001b[0m\n\u001b[0m\u001b[1;32m     10\u001b[0m     \u001b[0mprint\u001b[0m\u001b[0;34m(\u001b[0m\u001b[0;34m\"\\n\"\u001b[0m\u001b[0;34m)\u001b[0m\u001b[0;34m\u001b[0m\u001b[0;34m\u001b[0m\u001b[0m\n\u001b[1;32m     11\u001b[0m \u001b[0;34m\u001b[0m\u001b[0m\n",
      "\u001b[0;32m/opt/anaconda3/lib/python3.7/site-packages/ipykernel/kernelbase.py\u001b[0m in \u001b[0;36mraw_input\u001b[0;34m(self, prompt)\u001b[0m\n\u001b[1;32m    858\u001b[0m             \u001b[0mself\u001b[0m\u001b[0;34m.\u001b[0m\u001b[0m_parent_ident\u001b[0m\u001b[0;34m,\u001b[0m\u001b[0;34m\u001b[0m\u001b[0;34m\u001b[0m\u001b[0m\n\u001b[1;32m    859\u001b[0m             \u001b[0mself\u001b[0m\u001b[0;34m.\u001b[0m\u001b[0m_parent_header\u001b[0m\u001b[0;34m,\u001b[0m\u001b[0;34m\u001b[0m\u001b[0;34m\u001b[0m\u001b[0m\n\u001b[0;32m--> 860\u001b[0;31m             \u001b[0mpassword\u001b[0m\u001b[0;34m=\u001b[0m\u001b[0;32mFalse\u001b[0m\u001b[0;34m,\u001b[0m\u001b[0;34m\u001b[0m\u001b[0;34m\u001b[0m\u001b[0m\n\u001b[0m\u001b[1;32m    861\u001b[0m         )\n\u001b[1;32m    862\u001b[0m \u001b[0;34m\u001b[0m\u001b[0m\n",
      "\u001b[0;32m/opt/anaconda3/lib/python3.7/site-packages/ipykernel/kernelbase.py\u001b[0m in \u001b[0;36m_input_request\u001b[0;34m(self, prompt, ident, parent, password)\u001b[0m\n\u001b[1;32m    888\u001b[0m             \u001b[0;32mexcept\u001b[0m \u001b[0mKeyboardInterrupt\u001b[0m\u001b[0;34m:\u001b[0m\u001b[0;34m\u001b[0m\u001b[0;34m\u001b[0m\u001b[0m\n\u001b[1;32m    889\u001b[0m                 \u001b[0;31m# re-raise KeyboardInterrupt, to truncate traceback\u001b[0m\u001b[0;34m\u001b[0m\u001b[0;34m\u001b[0m\u001b[0;34m\u001b[0m\u001b[0m\n\u001b[0;32m--> 890\u001b[0;31m                 \u001b[0;32mraise\u001b[0m \u001b[0mKeyboardInterrupt\u001b[0m\u001b[0;34m\u001b[0m\u001b[0;34m\u001b[0m\u001b[0m\n\u001b[0m\u001b[1;32m    891\u001b[0m             \u001b[0;32melse\u001b[0m\u001b[0;34m:\u001b[0m\u001b[0;34m\u001b[0m\u001b[0;34m\u001b[0m\u001b[0m\n\u001b[1;32m    892\u001b[0m                 \u001b[0;32mbreak\u001b[0m\u001b[0;34m\u001b[0m\u001b[0;34m\u001b[0m\u001b[0m\n",
      "\u001b[0;31mKeyboardInterrupt\u001b[0m: "
     ]
    }
   ],
   "source": [
    "def information():\n",
    "    print(\"These are the top 5 recipes:\\n\")\n",
    "    for y in matching_recipes[0:5]:\n",
    "        for key in y['ingred']:\n",
    "            print(\"»\" + key)\n",
    "        \n",
    "    print(\"\\n\")\n",
    "    \n",
    "    narrow = input(\"Would you like to see the 'description', 'number of steps', 'time to prepare' or 'steps' for one of these recipes? \")\n",
    "    print(\"\\n\")\n",
    "\n",
    "\n",
    "    def selection():\n",
    "        if narrow == 'description':\n",
    "            r = input(\"Which recipe would you like to see the description of? Copy & paste the recipe here:\")\n",
    "            print(\"\\n\")\n",
    "            for y in matching_recipes:\n",
    "                for key in y['name']:\n",
    "                    if r == key:\n",
    "                        print(\"Description:\", y['descrip'])\n",
    "    \n",
    "        if narrow == 'number of steps':\n",
    "            r = input(\"Which recipe would you like to see the amount of steps for? Copy & paste the recipe here:  \")\n",
    "            print(\"\\n\")\n",
    "            for y in matching_recipes:\n",
    "                for key in y['name']:\n",
    "                    if r == key:\n",
    "                        print(\"This recipe has\", y['steps'], \"steps.\")\n",
    "\n",
    "        if narrow == 'time to prepare':\n",
    "            r = input(\"Which recipe would you like to see the amount of time it takes in minutes? Copy & paste the recipe here:\")\n",
    "            print(\"\\n\")\n",
    "            for y in matching_recipes:\n",
    "                for key in y['name']:\n",
    "                    if r == key:\n",
    "                        print(\"This recipe takes\", y['time'], \"minutes.\")  \n",
    "    \n",
    "        if narrow == 'steps':\n",
    "            r = input(\"Which recipe would you like to see the steps for? Copy & paste the recipe here:\")\n",
    "            print(\"\\n\")\n",
    "            for y in matching_recipes:\n",
    "                for key in y['name']:\n",
    "                    if r == key:\n",
    "                        print(\"This recipe has \", y['steps'], \"steps\")      \n",
    "    selection()\n",
    "\n",
    "    print(\"\\n\")\n",
    "    again=input(\"Do you want to see any information on other recipes? yes or no? \").lower()\n",
    "\n",
    "    while again == \"yes\":\n",
    "        information()\n",
    "    else:\n",
    "        print(\"\\n\\nGood luck with your recipe! ツ\")\n",
    "        \n",
    "        \n",
    "information()"
   ]
  },
  {
   "cell_type": "code",
   "execution_count": null,
   "metadata": {},
   "outputs": [],
   "source": []
  }
 ],
 "metadata": {
  "kernelspec": {
   "display_name": "Python 3",
   "language": "python",
   "name": "python3"
  },
  "language_info": {
   "codemirror_mode": {
    "name": "ipython",
    "version": 3
   },
   "file_extension": ".py",
   "mimetype": "text/x-python",
   "name": "python",
   "nbconvert_exporter": "python",
   "pygments_lexer": "ipython3",
   "version": "3.7.4"
  }
 },
 "nbformat": 4,
 "nbformat_minor": 4
}
