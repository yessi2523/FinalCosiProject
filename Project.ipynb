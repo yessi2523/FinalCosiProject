{
 "cells": [
  {
   "cell_type": "markdown",
   "metadata": {},
   "source": [
    "# <center style=\"color:turquoise\">𝟜𝟘𝟜 ℂ𝕠𝕕𝕖 ℕ𝕠𝕥 𝔽𝕠𝕦𝕟𝕕</center>\n",
    "### <p style=\"color:turquoise\">𝚃𝚎𝚊𝚖: 𝙲𝚢𝚗𝚝𝚑𝚒𝚊 𝙼𝚎𝚗𝚗𝚊, 𝚃𝚒𝚊𝚗𝚢𝚒 𝙶𝚊𝚘, 𝙴𝚖𝚒𝚕𝚢 𝙽𝚊, 𝙹𝚎𝚜𝚜𝚒𝚌𝚊 𝚃𝚊𝚒, 𝚈𝚎𝚜𝚜𝚎𝚗𝚒𝚊 𝚃𝚎𝚓𝚎𝚍𝚊</p>\n"
   ]
  },
  {
   "cell_type": "markdown",
   "metadata": {},
   "source": []
  },
  {
   "cell_type": "code",
   "execution_count": null,
   "metadata": {},
   "outputs": [],
   "source": []
  }
 ],
 "metadata": {
  "kernelspec": {
   "display_name": "Python 3",
   "language": "python",
   "name": "python3"
  },
  "language_info": {
   "codemirror_mode": {
    "name": "ipython",
    "version": 3
   },
   "file_extension": ".py",
   "mimetype": "text/x-python",
   "name": "python",
   "nbconvert_exporter": "python",
   "pygments_lexer": "ipython3",
   "version": "3.7.4"
  }
 },
 "nbformat": 4,
 "nbformat_minor": 4
}
